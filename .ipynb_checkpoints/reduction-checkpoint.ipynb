{
 "cells": [
  {
   "cell_type": "code",
   "execution_count": 1,
   "id": "downtown-livestock",
   "metadata": {},
   "outputs": [],
   "source": [
    "from tqdm.notebook import tqdm\n",
    "import pandas as pd\n",
    "import numpy as np\n",
    "import torch\n",
    "import torch.nn as nn\n",
    "import torch.nn.functional as F\n",
    "from torchvision import datasets\n",
    "import torchvision\n",
    "from torch.utils.data import DataLoader\n",
    "from sklearn.preprocessing import MinMaxScaler\n",
    "from sklearn.model_selection import train_test_split\n",
    "import seaborn as sns\n",
    "import torch.optim as optim\n",
    "import matplotlib.pyplot as plt\n",
    "import time"
   ]
  },
  {
   "cell_type": "markdown",
   "id": "lesser-necklace",
   "metadata": {},
   "source": [
    "Reading and observing the dataset at hand"
   ]
  },
  {
   "cell_type": "code",
   "execution_count": 2,
   "id": "incorporate-luxury",
   "metadata": {},
   "outputs": [
    {
     "name": "stdout",
     "output_type": "stream",
     "text": [
      "README.md         house prices.csv  reduction.ipynb   sonar.all-data\r\n"
     ]
    }
   ],
   "source": [
    "ls"
   ]
  },
  {
   "cell_type": "code",
   "execution_count": 3,
   "id": "practical-forth",
   "metadata": {},
   "outputs": [],
   "source": [
    "df = pd.read_csv('house prices.csv')\n",
    "df.drop('Id', inplace=True, axis=1)"
   ]
  },
  {
   "cell_type": "code",
   "execution_count": 4,
   "id": "armed-conference",
   "metadata": {},
   "outputs": [
    {
     "data": {
      "text/html": [
       "<div>\n",
       "<style scoped>\n",
       "    .dataframe tbody tr th:only-of-type {\n",
       "        vertical-align: middle;\n",
       "    }\n",
       "\n",
       "    .dataframe tbody tr th {\n",
       "        vertical-align: top;\n",
       "    }\n",
       "\n",
       "    .dataframe thead th {\n",
       "        text-align: right;\n",
       "    }\n",
       "</style>\n",
       "<table border=\"1\" class=\"dataframe\">\n",
       "  <thead>\n",
       "    <tr style=\"text-align: right;\">\n",
       "      <th></th>\n",
       "      <th>MSSubClass</th>\n",
       "      <th>MSZoning</th>\n",
       "      <th>LotFrontage</th>\n",
       "      <th>LotArea</th>\n",
       "      <th>Street</th>\n",
       "      <th>Alley</th>\n",
       "      <th>LotShape</th>\n",
       "      <th>LandContour</th>\n",
       "      <th>Utilities</th>\n",
       "      <th>LotConfig</th>\n",
       "      <th>...</th>\n",
       "      <th>PoolArea</th>\n",
       "      <th>PoolQC</th>\n",
       "      <th>Fence</th>\n",
       "      <th>MiscFeature</th>\n",
       "      <th>MiscVal</th>\n",
       "      <th>MoSold</th>\n",
       "      <th>YrSold</th>\n",
       "      <th>SaleType</th>\n",
       "      <th>SaleCondition</th>\n",
       "      <th>SalePrice</th>\n",
       "    </tr>\n",
       "  </thead>\n",
       "  <tbody>\n",
       "    <tr>\n",
       "      <th>0</th>\n",
       "      <td>60</td>\n",
       "      <td>RL</td>\n",
       "      <td>65.0</td>\n",
       "      <td>8450</td>\n",
       "      <td>Pave</td>\n",
       "      <td>NaN</td>\n",
       "      <td>Reg</td>\n",
       "      <td>Lvl</td>\n",
       "      <td>AllPub</td>\n",
       "      <td>Inside</td>\n",
       "      <td>...</td>\n",
       "      <td>0</td>\n",
       "      <td>NaN</td>\n",
       "      <td>NaN</td>\n",
       "      <td>NaN</td>\n",
       "      <td>0</td>\n",
       "      <td>2</td>\n",
       "      <td>2008</td>\n",
       "      <td>WD</td>\n",
       "      <td>Normal</td>\n",
       "      <td>208500</td>\n",
       "    </tr>\n",
       "    <tr>\n",
       "      <th>1</th>\n",
       "      <td>20</td>\n",
       "      <td>RL</td>\n",
       "      <td>80.0</td>\n",
       "      <td>9600</td>\n",
       "      <td>Pave</td>\n",
       "      <td>NaN</td>\n",
       "      <td>Reg</td>\n",
       "      <td>Lvl</td>\n",
       "      <td>AllPub</td>\n",
       "      <td>FR2</td>\n",
       "      <td>...</td>\n",
       "      <td>0</td>\n",
       "      <td>NaN</td>\n",
       "      <td>NaN</td>\n",
       "      <td>NaN</td>\n",
       "      <td>0</td>\n",
       "      <td>5</td>\n",
       "      <td>2007</td>\n",
       "      <td>WD</td>\n",
       "      <td>Normal</td>\n",
       "      <td>181500</td>\n",
       "    </tr>\n",
       "    <tr>\n",
       "      <th>2</th>\n",
       "      <td>60</td>\n",
       "      <td>RL</td>\n",
       "      <td>68.0</td>\n",
       "      <td>11250</td>\n",
       "      <td>Pave</td>\n",
       "      <td>NaN</td>\n",
       "      <td>IR1</td>\n",
       "      <td>Lvl</td>\n",
       "      <td>AllPub</td>\n",
       "      <td>Inside</td>\n",
       "      <td>...</td>\n",
       "      <td>0</td>\n",
       "      <td>NaN</td>\n",
       "      <td>NaN</td>\n",
       "      <td>NaN</td>\n",
       "      <td>0</td>\n",
       "      <td>9</td>\n",
       "      <td>2008</td>\n",
       "      <td>WD</td>\n",
       "      <td>Normal</td>\n",
       "      <td>223500</td>\n",
       "    </tr>\n",
       "  </tbody>\n",
       "</table>\n",
       "<p>3 rows × 80 columns</p>\n",
       "</div>"
      ],
      "text/plain": [
       "   MSSubClass MSZoning  LotFrontage  LotArea Street Alley LotShape  \\\n",
       "0          60       RL         65.0     8450   Pave   NaN      Reg   \n",
       "1          20       RL         80.0     9600   Pave   NaN      Reg   \n",
       "2          60       RL         68.0    11250   Pave   NaN      IR1   \n",
       "\n",
       "  LandContour Utilities LotConfig  ... PoolArea PoolQC Fence MiscFeature  \\\n",
       "0         Lvl    AllPub    Inside  ...        0    NaN   NaN         NaN   \n",
       "1         Lvl    AllPub       FR2  ...        0    NaN   NaN         NaN   \n",
       "2         Lvl    AllPub    Inside  ...        0    NaN   NaN         NaN   \n",
       "\n",
       "  MiscVal MoSold  YrSold  SaleType  SaleCondition  SalePrice  \n",
       "0       0      2    2008        WD         Normal     208500  \n",
       "1       0      5    2007        WD         Normal     181500  \n",
       "2       0      9    2008        WD         Normal     223500  \n",
       "\n",
       "[3 rows x 80 columns]"
      ]
     },
     "execution_count": 4,
     "metadata": {},
     "output_type": "execute_result"
    }
   ],
   "source": [
    "df.head(3)"
   ]
  },
  {
   "cell_type": "code",
   "execution_count": 5,
   "id": "expensive-fitness",
   "metadata": {},
   "outputs": [
    {
     "name": "stdout",
     "output_type": "stream",
     "text": [
      "<class 'pandas.core.frame.DataFrame'>\n",
      "RangeIndex: 1460 entries, 0 to 1459\n",
      "Data columns (total 80 columns):\n",
      " #   Column         Non-Null Count  Dtype  \n",
      "---  ------         --------------  -----  \n",
      " 0   MSSubClass     1460 non-null   int64  \n",
      " 1   MSZoning       1460 non-null   object \n",
      " 2   LotFrontage    1201 non-null   float64\n",
      " 3   LotArea        1460 non-null   int64  \n",
      " 4   Street         1460 non-null   object \n",
      " 5   Alley          91 non-null     object \n",
      " 6   LotShape       1460 non-null   object \n",
      " 7   LandContour    1460 non-null   object \n",
      " 8   Utilities      1460 non-null   object \n",
      " 9   LotConfig      1460 non-null   object \n",
      " 10  LandSlope      1460 non-null   object \n",
      " 11  Neighborhood   1460 non-null   object \n",
      " 12  Condition1     1460 non-null   object \n",
      " 13  Condition2     1460 non-null   object \n",
      " 14  BldgType       1460 non-null   object \n",
      " 15  HouseStyle     1460 non-null   object \n",
      " 16  OverallQual    1460 non-null   int64  \n",
      " 17  OverallCond    1460 non-null   int64  \n",
      " 18  YearBuilt      1460 non-null   int64  \n",
      " 19  YearRemodAdd   1460 non-null   int64  \n",
      " 20  RoofStyle      1460 non-null   object \n",
      " 21  RoofMatl       1460 non-null   object \n",
      " 22  Exterior1st    1460 non-null   object \n",
      " 23  Exterior2nd    1460 non-null   object \n",
      " 24  MasVnrType     1452 non-null   object \n",
      " 25  MasVnrArea     1452 non-null   float64\n",
      " 26  ExterQual      1460 non-null   object \n",
      " 27  ExterCond      1460 non-null   object \n",
      " 28  Foundation     1460 non-null   object \n",
      " 29  BsmtQual       1423 non-null   object \n",
      " 30  BsmtCond       1423 non-null   object \n",
      " 31  BsmtExposure   1422 non-null   object \n",
      " 32  BsmtFinType1   1423 non-null   object \n",
      " 33  BsmtFinSF1     1460 non-null   int64  \n",
      " 34  BsmtFinType2   1422 non-null   object \n",
      " 35  BsmtFinSF2     1460 non-null   int64  \n",
      " 36  BsmtUnfSF      1460 non-null   int64  \n",
      " 37  TotalBsmtSF    1460 non-null   int64  \n",
      " 38  Heating        1460 non-null   object \n",
      " 39  HeatingQC      1460 non-null   object \n",
      " 40  CentralAir     1460 non-null   object \n",
      " 41  Electrical     1459 non-null   object \n",
      " 42  1stFlrSF       1460 non-null   int64  \n",
      " 43  2ndFlrSF       1460 non-null   int64  \n",
      " 44  LowQualFinSF   1460 non-null   int64  \n",
      " 45  GrLivArea      1460 non-null   int64  \n",
      " 46  BsmtFullBath   1460 non-null   int64  \n",
      " 47  BsmtHalfBath   1460 non-null   int64  \n",
      " 48  FullBath       1460 non-null   int64  \n",
      " 49  HalfBath       1460 non-null   int64  \n",
      " 50  BedroomAbvGr   1460 non-null   int64  \n",
      " 51  KitchenAbvGr   1460 non-null   int64  \n",
      " 52  KitchenQual    1460 non-null   object \n",
      " 53  TotRmsAbvGrd   1460 non-null   int64  \n",
      " 54  Functional     1460 non-null   object \n",
      " 55  Fireplaces     1460 non-null   int64  \n",
      " 56  FireplaceQu    770 non-null    object \n",
      " 57  GarageType     1379 non-null   object \n",
      " 58  GarageYrBlt    1379 non-null   float64\n",
      " 59  GarageFinish   1379 non-null   object \n",
      " 60  GarageCars     1460 non-null   int64  \n",
      " 61  GarageArea     1460 non-null   int64  \n",
      " 62  GarageQual     1379 non-null   object \n",
      " 63  GarageCond     1379 non-null   object \n",
      " 64  PavedDrive     1460 non-null   object \n",
      " 65  WoodDeckSF     1460 non-null   int64  \n",
      " 66  OpenPorchSF    1460 non-null   int64  \n",
      " 67  EnclosedPorch  1460 non-null   int64  \n",
      " 68  3SsnPorch      1460 non-null   int64  \n",
      " 69  ScreenPorch    1460 non-null   int64  \n",
      " 70  PoolArea       1460 non-null   int64  \n",
      " 71  PoolQC         7 non-null      object \n",
      " 72  Fence          281 non-null    object \n",
      " 73  MiscFeature    54 non-null     object \n",
      " 74  MiscVal        1460 non-null   int64  \n",
      " 75  MoSold         1460 non-null   int64  \n",
      " 76  YrSold         1460 non-null   int64  \n",
      " 77  SaleType       1460 non-null   object \n",
      " 78  SaleCondition  1460 non-null   object \n",
      " 79  SalePrice      1460 non-null   int64  \n",
      "dtypes: float64(3), int64(34), object(43)\n",
      "memory usage: 912.6+ KB\n"
     ]
    }
   ],
   "source": [
    "df.info()"
   ]
  },
  {
   "cell_type": "code",
   "execution_count": 6,
   "id": "composite-explorer",
   "metadata": {},
   "outputs": [],
   "source": [
    "def show_nans():\n",
    "    nan_df = pd.DataFrame(df.isna().sum(axis=0), columns=['nan-count'])\n",
    "    nan_df = nan_df.sort_values('nan-count', ascending=False)\n",
    "    return nan_df"
   ]
  },
  {
   "cell_type": "markdown",
   "id": "frozen-mitchell",
   "metadata": {},
   "source": [
    "Removing Nan values if possible and replacing them with the Nan values defined specifically for each"
   ]
  },
  {
   "cell_type": "code",
   "execution_count": 7,
   "id": "funny-johnson",
   "metadata": {},
   "outputs": [
    {
     "data": {
      "text/html": [
       "<div>\n",
       "<style scoped>\n",
       "    .dataframe tbody tr th:only-of-type {\n",
       "        vertical-align: middle;\n",
       "    }\n",
       "\n",
       "    .dataframe tbody tr th {\n",
       "        vertical-align: top;\n",
       "    }\n",
       "\n",
       "    .dataframe thead th {\n",
       "        text-align: right;\n",
       "    }\n",
       "</style>\n",
       "<table border=\"1\" class=\"dataframe\">\n",
       "  <thead>\n",
       "    <tr style=\"text-align: right;\">\n",
       "      <th></th>\n",
       "      <th>nan-count</th>\n",
       "    </tr>\n",
       "  </thead>\n",
       "  <tbody>\n",
       "    <tr>\n",
       "      <th>GarageYrBlt</th>\n",
       "      <td>81</td>\n",
       "    </tr>\n",
       "    <tr>\n",
       "      <th>MasVnrType</th>\n",
       "      <td>8</td>\n",
       "    </tr>\n",
       "    <tr>\n",
       "      <th>MasVnrArea</th>\n",
       "      <td>8</td>\n",
       "    </tr>\n",
       "    <tr>\n",
       "      <th>Electrical</th>\n",
       "      <td>1</td>\n",
       "    </tr>\n",
       "    <tr>\n",
       "      <th>KitchenQual</th>\n",
       "      <td>0</td>\n",
       "    </tr>\n",
       "    <tr>\n",
       "      <th>...</th>\n",
       "      <td>...</td>\n",
       "    </tr>\n",
       "    <tr>\n",
       "      <th>ExterCond</th>\n",
       "      <td>0</td>\n",
       "    </tr>\n",
       "    <tr>\n",
       "      <th>ExterQual</th>\n",
       "      <td>0</td>\n",
       "    </tr>\n",
       "    <tr>\n",
       "      <th>Exterior2nd</th>\n",
       "      <td>0</td>\n",
       "    </tr>\n",
       "    <tr>\n",
       "      <th>Exterior1st</th>\n",
       "      <td>0</td>\n",
       "    </tr>\n",
       "    <tr>\n",
       "      <th>SalePrice</th>\n",
       "      <td>0</td>\n",
       "    </tr>\n",
       "  </tbody>\n",
       "</table>\n",
       "<p>80 rows × 1 columns</p>\n",
       "</div>"
      ],
      "text/plain": [
       "             nan-count\n",
       "GarageYrBlt         81\n",
       "MasVnrType           8\n",
       "MasVnrArea           8\n",
       "Electrical           1\n",
       "KitchenQual          0\n",
       "...                ...\n",
       "ExterCond            0\n",
       "ExterQual            0\n",
       "Exterior2nd          0\n",
       "Exterior1st          0\n",
       "SalePrice            0\n",
       "\n",
       "[80 rows x 1 columns]"
      ]
     },
     "execution_count": 7,
     "metadata": {},
     "output_type": "execute_result"
    }
   ],
   "source": [
    "df['PoolQC'].fillna('NA', inplace=True)\n",
    "df['MiscFeature'].fillna('NA', inplace=True)\n",
    "df['Alley'].fillna('NA', inplace=True)\n",
    "df['Fence'].fillna('NA', inplace=True)\n",
    "df['FireplaceQu'].fillna('NA', inplace=True)\n",
    "df['GarageCond'].fillna('NA', inplace=True)\n",
    "df['GarageFinish'].fillna('NA', inplace=True)\n",
    "df['GarageQual'].fillna('NA', inplace=True)\n",
    "df['GarageType'].fillna('NA', inplace=True)\n",
    "df['BsmtFinType2'].fillna('NA', inplace=True)\n",
    "df['BsmtFinType1'].fillna('NA', inplace=True)\n",
    "df['BsmtExposure'].fillna('NA', inplace=True)\n",
    "df['BsmtCond'].fillna('NA', inplace=True)\n",
    "df['BsmtQual'].fillna('NA', inplace=True)\n",
    "df['LotFrontage'].fillna(df['LotFrontage'].mean(), inplace=True) # should be experimented\n",
    "show_nans()"
   ]
  },
  {
   "cell_type": "code",
   "execution_count": 8,
   "id": "turned-board",
   "metadata": {},
   "outputs": [],
   "source": [
    "df.drop('GarageYrBlt', axis=1, inplace=True)"
   ]
  },
  {
   "cell_type": "code",
   "execution_count": 9,
   "id": "documented-editor",
   "metadata": {},
   "outputs": [],
   "source": [
    "df.dropna(inplace=True)\n",
    "df.drop_duplicates(inplace=True)\n",
    "df.reset_index(drop=True, inplace=True)"
   ]
  },
  {
   "cell_type": "code",
   "execution_count": 10,
   "id": "excited-projection",
   "metadata": {},
   "outputs": [
    {
     "data": {
      "text/plain": [
       "(1451, 79)"
      ]
     },
     "execution_count": 10,
     "metadata": {},
     "output_type": "execute_result"
    }
   ],
   "source": [
    "df.shape"
   ]
  },
  {
   "cell_type": "code",
   "execution_count": 11,
   "id": "italic-worth",
   "metadata": {},
   "outputs": [],
   "source": [
    "number_df = df.select_dtypes('number')\n",
    "object_df = df.select_dtypes('object')"
   ]
  },
  {
   "cell_type": "code",
   "execution_count": 12,
   "id": "latest-capability",
   "metadata": {},
   "outputs": [
    {
     "data": {
      "text/plain": [
       "((1451, 36), (1451, 43))"
      ]
     },
     "execution_count": 12,
     "metadata": {},
     "output_type": "execute_result"
    }
   ],
   "source": [
    "number_df.shape, object_df.shape"
   ]
  },
  {
   "cell_type": "code",
   "execution_count": 13,
   "id": "modular-delhi",
   "metadata": {},
   "outputs": [
    {
     "data": {
      "text/html": [
       "<div>\n",
       "<style scoped>\n",
       "    .dataframe tbody tr th:only-of-type {\n",
       "        vertical-align: middle;\n",
       "    }\n",
       "\n",
       "    .dataframe tbody tr th {\n",
       "        vertical-align: top;\n",
       "    }\n",
       "\n",
       "    .dataframe thead th {\n",
       "        text-align: right;\n",
       "    }\n",
       "</style>\n",
       "<table border=\"1\" class=\"dataframe\">\n",
       "  <thead>\n",
       "    <tr style=\"text-align: right;\">\n",
       "      <th></th>\n",
       "      <th>MSZoning</th>\n",
       "      <th>Street</th>\n",
       "      <th>Alley</th>\n",
       "      <th>LotShape</th>\n",
       "      <th>LandContour</th>\n",
       "      <th>Utilities</th>\n",
       "      <th>LotConfig</th>\n",
       "      <th>LandSlope</th>\n",
       "      <th>Neighborhood</th>\n",
       "      <th>Condition1</th>\n",
       "      <th>...</th>\n",
       "      <th>GarageType</th>\n",
       "      <th>GarageFinish</th>\n",
       "      <th>GarageQual</th>\n",
       "      <th>GarageCond</th>\n",
       "      <th>PavedDrive</th>\n",
       "      <th>PoolQC</th>\n",
       "      <th>Fence</th>\n",
       "      <th>MiscFeature</th>\n",
       "      <th>SaleType</th>\n",
       "      <th>SaleCondition</th>\n",
       "    </tr>\n",
       "  </thead>\n",
       "  <tbody>\n",
       "    <tr>\n",
       "      <th>0</th>\n",
       "      <td>RL</td>\n",
       "      <td>Pave</td>\n",
       "      <td>NA</td>\n",
       "      <td>Reg</td>\n",
       "      <td>Lvl</td>\n",
       "      <td>AllPub</td>\n",
       "      <td>Inside</td>\n",
       "      <td>Gtl</td>\n",
       "      <td>CollgCr</td>\n",
       "      <td>Norm</td>\n",
       "      <td>...</td>\n",
       "      <td>Attchd</td>\n",
       "      <td>RFn</td>\n",
       "      <td>TA</td>\n",
       "      <td>TA</td>\n",
       "      <td>Y</td>\n",
       "      <td>NA</td>\n",
       "      <td>NA</td>\n",
       "      <td>NA</td>\n",
       "      <td>WD</td>\n",
       "      <td>Normal</td>\n",
       "    </tr>\n",
       "    <tr>\n",
       "      <th>1</th>\n",
       "      <td>RL</td>\n",
       "      <td>Pave</td>\n",
       "      <td>NA</td>\n",
       "      <td>Reg</td>\n",
       "      <td>Lvl</td>\n",
       "      <td>AllPub</td>\n",
       "      <td>FR2</td>\n",
       "      <td>Gtl</td>\n",
       "      <td>Veenker</td>\n",
       "      <td>Feedr</td>\n",
       "      <td>...</td>\n",
       "      <td>Attchd</td>\n",
       "      <td>RFn</td>\n",
       "      <td>TA</td>\n",
       "      <td>TA</td>\n",
       "      <td>Y</td>\n",
       "      <td>NA</td>\n",
       "      <td>NA</td>\n",
       "      <td>NA</td>\n",
       "      <td>WD</td>\n",
       "      <td>Normal</td>\n",
       "    </tr>\n",
       "    <tr>\n",
       "      <th>2</th>\n",
       "      <td>RL</td>\n",
       "      <td>Pave</td>\n",
       "      <td>NA</td>\n",
       "      <td>IR1</td>\n",
       "      <td>Lvl</td>\n",
       "      <td>AllPub</td>\n",
       "      <td>Inside</td>\n",
       "      <td>Gtl</td>\n",
       "      <td>CollgCr</td>\n",
       "      <td>Norm</td>\n",
       "      <td>...</td>\n",
       "      <td>Attchd</td>\n",
       "      <td>RFn</td>\n",
       "      <td>TA</td>\n",
       "      <td>TA</td>\n",
       "      <td>Y</td>\n",
       "      <td>NA</td>\n",
       "      <td>NA</td>\n",
       "      <td>NA</td>\n",
       "      <td>WD</td>\n",
       "      <td>Normal</td>\n",
       "    </tr>\n",
       "  </tbody>\n",
       "</table>\n",
       "<p>3 rows × 43 columns</p>\n",
       "</div>"
      ],
      "text/plain": [
       "  MSZoning Street Alley LotShape LandContour Utilities LotConfig LandSlope  \\\n",
       "0       RL   Pave    NA      Reg         Lvl    AllPub    Inside       Gtl   \n",
       "1       RL   Pave    NA      Reg         Lvl    AllPub       FR2       Gtl   \n",
       "2       RL   Pave    NA      IR1         Lvl    AllPub    Inside       Gtl   \n",
       "\n",
       "  Neighborhood Condition1  ... GarageType GarageFinish GarageQual GarageCond  \\\n",
       "0      CollgCr       Norm  ...     Attchd          RFn         TA         TA   \n",
       "1      Veenker      Feedr  ...     Attchd          RFn         TA         TA   \n",
       "2      CollgCr       Norm  ...     Attchd          RFn         TA         TA   \n",
       "\n",
       "  PavedDrive PoolQC Fence MiscFeature SaleType SaleCondition  \n",
       "0          Y     NA    NA          NA       WD        Normal  \n",
       "1          Y     NA    NA          NA       WD        Normal  \n",
       "2          Y     NA    NA          NA       WD        Normal  \n",
       "\n",
       "[3 rows x 43 columns]"
      ]
     },
     "execution_count": 13,
     "metadata": {},
     "output_type": "execute_result"
    }
   ],
   "source": [
    "object_df.head(3)"
   ]
  },
  {
   "cell_type": "code",
   "execution_count": 14,
   "id": "hollow-jamaica",
   "metadata": {},
   "outputs": [
    {
     "data": {
      "text/html": [
       "<div>\n",
       "<style scoped>\n",
       "    .dataframe tbody tr th:only-of-type {\n",
       "        vertical-align: middle;\n",
       "    }\n",
       "\n",
       "    .dataframe tbody tr th {\n",
       "        vertical-align: top;\n",
       "    }\n",
       "\n",
       "    .dataframe thead th {\n",
       "        text-align: right;\n",
       "    }\n",
       "</style>\n",
       "<table border=\"1\" class=\"dataframe\">\n",
       "  <thead>\n",
       "    <tr style=\"text-align: right;\">\n",
       "      <th></th>\n",
       "      <th>MSSubClass</th>\n",
       "      <th>LotFrontage</th>\n",
       "      <th>LotArea</th>\n",
       "      <th>OverallQual</th>\n",
       "      <th>OverallCond</th>\n",
       "      <th>YearBuilt</th>\n",
       "      <th>YearRemodAdd</th>\n",
       "      <th>MasVnrArea</th>\n",
       "      <th>BsmtFinSF1</th>\n",
       "      <th>BsmtFinSF2</th>\n",
       "      <th>...</th>\n",
       "      <th>WoodDeckSF</th>\n",
       "      <th>OpenPorchSF</th>\n",
       "      <th>EnclosedPorch</th>\n",
       "      <th>3SsnPorch</th>\n",
       "      <th>ScreenPorch</th>\n",
       "      <th>PoolArea</th>\n",
       "      <th>MiscVal</th>\n",
       "      <th>MoSold</th>\n",
       "      <th>YrSold</th>\n",
       "      <th>SalePrice</th>\n",
       "    </tr>\n",
       "  </thead>\n",
       "  <tbody>\n",
       "    <tr>\n",
       "      <th>0</th>\n",
       "      <td>60</td>\n",
       "      <td>65.0</td>\n",
       "      <td>8450</td>\n",
       "      <td>7</td>\n",
       "      <td>5</td>\n",
       "      <td>2003</td>\n",
       "      <td>2003</td>\n",
       "      <td>196.0</td>\n",
       "      <td>706</td>\n",
       "      <td>0</td>\n",
       "      <td>...</td>\n",
       "      <td>0</td>\n",
       "      <td>61</td>\n",
       "      <td>0</td>\n",
       "      <td>0</td>\n",
       "      <td>0</td>\n",
       "      <td>0</td>\n",
       "      <td>0</td>\n",
       "      <td>2</td>\n",
       "      <td>2008</td>\n",
       "      <td>208500</td>\n",
       "    </tr>\n",
       "    <tr>\n",
       "      <th>1</th>\n",
       "      <td>20</td>\n",
       "      <td>80.0</td>\n",
       "      <td>9600</td>\n",
       "      <td>6</td>\n",
       "      <td>8</td>\n",
       "      <td>1976</td>\n",
       "      <td>1976</td>\n",
       "      <td>0.0</td>\n",
       "      <td>978</td>\n",
       "      <td>0</td>\n",
       "      <td>...</td>\n",
       "      <td>298</td>\n",
       "      <td>0</td>\n",
       "      <td>0</td>\n",
       "      <td>0</td>\n",
       "      <td>0</td>\n",
       "      <td>0</td>\n",
       "      <td>0</td>\n",
       "      <td>5</td>\n",
       "      <td>2007</td>\n",
       "      <td>181500</td>\n",
       "    </tr>\n",
       "    <tr>\n",
       "      <th>2</th>\n",
       "      <td>60</td>\n",
       "      <td>68.0</td>\n",
       "      <td>11250</td>\n",
       "      <td>7</td>\n",
       "      <td>5</td>\n",
       "      <td>2001</td>\n",
       "      <td>2002</td>\n",
       "      <td>162.0</td>\n",
       "      <td>486</td>\n",
       "      <td>0</td>\n",
       "      <td>...</td>\n",
       "      <td>0</td>\n",
       "      <td>42</td>\n",
       "      <td>0</td>\n",
       "      <td>0</td>\n",
       "      <td>0</td>\n",
       "      <td>0</td>\n",
       "      <td>0</td>\n",
       "      <td>9</td>\n",
       "      <td>2008</td>\n",
       "      <td>223500</td>\n",
       "    </tr>\n",
       "  </tbody>\n",
       "</table>\n",
       "<p>3 rows × 36 columns</p>\n",
       "</div>"
      ],
      "text/plain": [
       "   MSSubClass  LotFrontage  LotArea  OverallQual  OverallCond  YearBuilt  \\\n",
       "0          60         65.0     8450            7            5       2003   \n",
       "1          20         80.0     9600            6            8       1976   \n",
       "2          60         68.0    11250            7            5       2001   \n",
       "\n",
       "   YearRemodAdd  MasVnrArea  BsmtFinSF1  BsmtFinSF2  ...  WoodDeckSF  \\\n",
       "0          2003       196.0         706           0  ...           0   \n",
       "1          1976         0.0         978           0  ...         298   \n",
       "2          2002       162.0         486           0  ...           0   \n",
       "\n",
       "   OpenPorchSF  EnclosedPorch  3SsnPorch  ScreenPorch  PoolArea  MiscVal  \\\n",
       "0           61              0          0            0         0        0   \n",
       "1            0              0          0            0         0        0   \n",
       "2           42              0          0            0         0        0   \n",
       "\n",
       "   MoSold  YrSold  SalePrice  \n",
       "0       2    2008     208500  \n",
       "1       5    2007     181500  \n",
       "2       9    2008     223500  \n",
       "\n",
       "[3 rows x 36 columns]"
      ]
     },
     "execution_count": 14,
     "metadata": {},
     "output_type": "execute_result"
    }
   ],
   "source": [
    "number_df.head(3)"
   ]
  },
  {
   "cell_type": "code",
   "execution_count": 15,
   "id": "ceramic-garage",
   "metadata": {},
   "outputs": [
    {
     "name": "stderr",
     "output_type": "stream",
     "text": [
      "<ipython-input-15-57231cb53607>:2: SettingWithCopyWarning: \n",
      "A value is trying to be set on a copy of a slice from a DataFrame.\n",
      "Try using .loc[row_indexer,col_indexer] = value instead\n",
      "\n",
      "See the caveats in the documentation: https://pandas.pydata.org/pandas-docs/stable/user_guide/indexing.html#returning-a-view-versus-a-copy\n",
      "  object_df[column] = pd.factorize(object_df[column])[0]\n"
     ]
    }
   ],
   "source": [
    "for column in object_df.columns:\n",
    "    object_df[column] = pd.factorize(object_df[column])[0]"
   ]
  },
  {
   "cell_type": "code",
   "execution_count": 16,
   "id": "smooth-senegal",
   "metadata": {},
   "outputs": [],
   "source": [
    "df = pd.concat([number_df, object_df], axis=1)"
   ]
  },
  {
   "cell_type": "code",
   "execution_count": 17,
   "id": "herbal-discrimination",
   "metadata": {},
   "outputs": [
    {
     "data": {
      "text/plain": [
       "<AxesSubplot:xlabel='SalePrice', ylabel='Count'>"
      ]
     },
     "execution_count": 17,
     "metadata": {},
     "output_type": "execute_result"
    },
    {
     "data": {
      "image/png": "[encoded data removed]",
      "text/plain": [
       "<Figure size 432x288 with 1 Axes>"
      ]
     },
     "metadata": {
      "needs_background": "light"
     },
     "output_type": "display_data"
    }
   ],
   "source": [
    "sns.histplot(np.log(df['SalePrice']))"
   ]
  },
  {
   "cell_type": "code",
   "execution_count": 194,
   "id": "arranged-jefferson",
   "metadata": {},
   "outputs": [],
   "source": [
    "def scaler_features(df, log_target, target_column):\n",
    "    df_copy = df.copy()\n",
    "    df_copy_target = df_copy.pop(target_column)\n",
    "    if log_target:\n",
    "        df_copy_target = np.log1p(df_copy_target)\n",
    "    df_copy_target.reset_index(drop=True, inplace=True)\n",
    "    scaler = MinMaxScaler()\n",
    "    df_copy = pd.DataFrame(scaler.fit_transform(df_copy), columns=df_copy.columns)\n",
    "    df_copy = pd.concat([df_copy, df_copy_target], axis=1)\n",
    "    return df_copy"
   ]
  },
  {
   "cell_type": "markdown",
   "id": "southwest-idaho",
   "metadata": {},
   "source": [
    "### First Part"
   ]
  },
  {
   "cell_type": "code",
   "execution_count": 19,
   "id": "varying-lyric",
   "metadata": {},
   "outputs": [
    {
     "data": {
      "text/plain": [
       "<AxesSubplot:>"
      ]
     },
     "execution_count": 19,
     "metadata": {},
     "output_type": "execute_result"
    },
    {
     "data": {
      "image/png": "[encoded data removed]",
      "text/plain": [
       "<Figure size 1080x720 with 2 Axes>"
      ]
     },
     "metadata": {
      "needs_background": "light"
     },
     "output_type": "display_data"
    }
   ],
   "source": [
    "plt.figure(figsize=(15, 10))\n",
    "sns.heatmap(df.corr(), mask=np.triu(df.corr()), cmap='Blues')"
   ]
  },
  {
   "cell_type": "code",
   "execution_count": 20,
   "id": "corresponding-clothing",
   "metadata": {},
   "outputs": [],
   "source": [
    "d = scaler_features(df, log_target=True, 'SalePrice')"
   ]
  },
  {
   "cell_type": "code",
   "execution_count": 21,
   "id": "tribal-thing",
   "metadata": {},
   "outputs": [],
   "source": [
    "y_df = d.pop('SalePrice')\n",
    "X_df = d"
   ]
  },
  {
   "cell_type": "code",
   "execution_count": 22,
   "id": "green-season",
   "metadata": {},
   "outputs": [
    {
     "data": {
      "text/html": [
       "<div>\n",
       "<style scoped>\n",
       "    .dataframe tbody tr th:only-of-type {\n",
       "        vertical-align: middle;\n",
       "    }\n",
       "\n",
       "    .dataframe tbody tr th {\n",
       "        vertical-align: top;\n",
       "    }\n",
       "\n",
       "    .dataframe thead th {\n",
       "        text-align: right;\n",
       "    }\n",
       "</style>\n",
       "<table border=\"1\" class=\"dataframe\">\n",
       "  <thead>\n",
       "    <tr style=\"text-align: right;\">\n",
       "      <th></th>\n",
       "      <th>MSSubClass</th>\n",
       "      <th>LotFrontage</th>\n",
       "      <th>LotArea</th>\n",
       "      <th>OverallQual</th>\n",
       "      <th>OverallCond</th>\n",
       "      <th>YearBuilt</th>\n",
       "      <th>YearRemodAdd</th>\n",
       "      <th>MasVnrArea</th>\n",
       "      <th>BsmtFinSF1</th>\n",
       "      <th>BsmtFinSF2</th>\n",
       "      <th>...</th>\n",
       "      <th>GarageType</th>\n",
       "      <th>GarageFinish</th>\n",
       "      <th>GarageQual</th>\n",
       "      <th>GarageCond</th>\n",
       "      <th>PavedDrive</th>\n",
       "      <th>PoolQC</th>\n",
       "      <th>Fence</th>\n",
       "      <th>MiscFeature</th>\n",
       "      <th>SaleType</th>\n",
       "      <th>SaleCondition</th>\n",
       "    </tr>\n",
       "  </thead>\n",
       "  <tbody>\n",
       "    <tr>\n",
       "      <th>0</th>\n",
       "      <td>0.235294</td>\n",
       "      <td>0.150685</td>\n",
       "      <td>0.033420</td>\n",
       "      <td>0.666667</td>\n",
       "      <td>0.500</td>\n",
       "      <td>0.949275</td>\n",
       "      <td>0.883333</td>\n",
       "      <td>0.122500</td>\n",
       "      <td>0.125089</td>\n",
       "      <td>0.000000</td>\n",
       "      <td>...</td>\n",
       "      <td>0.000000</td>\n",
       "      <td>0.000000</td>\n",
       "      <td>0.0</td>\n",
       "      <td>0.0</td>\n",
       "      <td>0.0</td>\n",
       "      <td>0.0</td>\n",
       "      <td>0.00</td>\n",
       "      <td>0.00</td>\n",
       "      <td>0.0</td>\n",
       "      <td>0.0</td>\n",
       "    </tr>\n",
       "    <tr>\n",
       "      <th>1</th>\n",
       "      <td>0.000000</td>\n",
       "      <td>0.202055</td>\n",
       "      <td>0.038795</td>\n",
       "      <td>0.555556</td>\n",
       "      <td>0.875</td>\n",
       "      <td>0.753623</td>\n",
       "      <td>0.433333</td>\n",
       "      <td>0.000000</td>\n",
       "      <td>0.173281</td>\n",
       "      <td>0.000000</td>\n",
       "      <td>...</td>\n",
       "      <td>0.000000</td>\n",
       "      <td>0.000000</td>\n",
       "      <td>0.0</td>\n",
       "      <td>0.0</td>\n",
       "      <td>0.0</td>\n",
       "      <td>0.0</td>\n",
       "      <td>0.00</td>\n",
       "      <td>0.00</td>\n",
       "      <td>0.0</td>\n",
       "      <td>0.0</td>\n",
       "    </tr>\n",
       "    <tr>\n",
       "      <th>2</th>\n",
       "      <td>0.235294</td>\n",
       "      <td>0.160959</td>\n",
       "      <td>0.046507</td>\n",
       "      <td>0.666667</td>\n",
       "      <td>0.500</td>\n",
       "      <td>0.934783</td>\n",
       "      <td>0.866667</td>\n",
       "      <td>0.101250</td>\n",
       "      <td>0.086109</td>\n",
       "      <td>0.000000</td>\n",
       "      <td>...</td>\n",
       "      <td>0.000000</td>\n",
       "      <td>0.000000</td>\n",
       "      <td>0.0</td>\n",
       "      <td>0.0</td>\n",
       "      <td>0.0</td>\n",
       "      <td>0.0</td>\n",
       "      <td>0.00</td>\n",
       "      <td>0.00</td>\n",
       "      <td>0.0</td>\n",
       "      <td>0.0</td>\n",
       "    </tr>\n",
       "    <tr>\n",
       "      <th>3</th>\n",
       "      <td>0.294118</td>\n",
       "      <td>0.133562</td>\n",
       "      <td>0.038561</td>\n",
       "      <td>0.666667</td>\n",
       "      <td>0.500</td>\n",
       "      <td>0.311594</td>\n",
       "      <td>0.333333</td>\n",
       "      <td>0.000000</td>\n",
       "      <td>0.038271</td>\n",
       "      <td>0.000000</td>\n",
       "      <td>...</td>\n",
       "      <td>0.166667</td>\n",
       "      <td>0.333333</td>\n",
       "      <td>0.0</td>\n",
       "      <td>0.0</td>\n",
       "      <td>0.0</td>\n",
       "      <td>0.0</td>\n",
       "      <td>0.00</td>\n",
       "      <td>0.00</td>\n",
       "      <td>0.0</td>\n",
       "      <td>0.2</td>\n",
       "    </tr>\n",
       "    <tr>\n",
       "      <th>4</th>\n",
       "      <td>0.235294</td>\n",
       "      <td>0.215753</td>\n",
       "      <td>0.060576</td>\n",
       "      <td>0.777778</td>\n",
       "      <td>0.500</td>\n",
       "      <td>0.927536</td>\n",
       "      <td>0.833333</td>\n",
       "      <td>0.218750</td>\n",
       "      <td>0.116052</td>\n",
       "      <td>0.000000</td>\n",
       "      <td>...</td>\n",
       "      <td>0.000000</td>\n",
       "      <td>0.000000</td>\n",
       "      <td>0.0</td>\n",
       "      <td>0.0</td>\n",
       "      <td>0.0</td>\n",
       "      <td>0.0</td>\n",
       "      <td>0.00</td>\n",
       "      <td>0.00</td>\n",
       "      <td>0.0</td>\n",
       "      <td>0.0</td>\n",
       "    </tr>\n",
       "    <tr>\n",
       "      <th>...</th>\n",
       "      <td>...</td>\n",
       "      <td>...</td>\n",
       "      <td>...</td>\n",
       "      <td>...</td>\n",
       "      <td>...</td>\n",
       "      <td>...</td>\n",
       "      <td>...</td>\n",
       "      <td>...</td>\n",
       "      <td>...</td>\n",
       "      <td>...</td>\n",
       "      <td>...</td>\n",
       "      <td>...</td>\n",
       "      <td>...</td>\n",
       "      <td>...</td>\n",
       "      <td>...</td>\n",
       "      <td>...</td>\n",
       "      <td>...</td>\n",
       "      <td>...</td>\n",
       "      <td>...</td>\n",
       "      <td>...</td>\n",
       "      <td>...</td>\n",
       "    </tr>\n",
       "    <tr>\n",
       "      <th>1446</th>\n",
       "      <td>0.235294</td>\n",
       "      <td>0.140411</td>\n",
       "      <td>0.030929</td>\n",
       "      <td>0.555556</td>\n",
       "      <td>0.500</td>\n",
       "      <td>0.920290</td>\n",
       "      <td>0.833333</td>\n",
       "      <td>0.000000</td>\n",
       "      <td>0.000000</td>\n",
       "      <td>0.000000</td>\n",
       "      <td>...</td>\n",
       "      <td>0.000000</td>\n",
       "      <td>0.000000</td>\n",
       "      <td>0.0</td>\n",
       "      <td>0.0</td>\n",
       "      <td>0.0</td>\n",
       "      <td>0.0</td>\n",
       "      <td>0.00</td>\n",
       "      <td>0.00</td>\n",
       "      <td>0.0</td>\n",
       "      <td>0.0</td>\n",
       "    </tr>\n",
       "    <tr>\n",
       "      <th>1447</th>\n",
       "      <td>0.000000</td>\n",
       "      <td>0.219178</td>\n",
       "      <td>0.055505</td>\n",
       "      <td>0.555556</td>\n",
       "      <td>0.625</td>\n",
       "      <td>0.768116</td>\n",
       "      <td>0.633333</td>\n",
       "      <td>0.074375</td>\n",
       "      <td>0.139972</td>\n",
       "      <td>0.110583</td>\n",
       "      <td>...</td>\n",
       "      <td>0.000000</td>\n",
       "      <td>0.333333</td>\n",
       "      <td>0.0</td>\n",
       "      <td>0.0</td>\n",
       "      <td>0.0</td>\n",
       "      <td>0.0</td>\n",
       "      <td>0.25</td>\n",
       "      <td>0.00</td>\n",
       "      <td>0.0</td>\n",
       "      <td>0.0</td>\n",
       "    </tr>\n",
       "    <tr>\n",
       "      <th>1448</th>\n",
       "      <td>0.294118</td>\n",
       "      <td>0.154110</td>\n",
       "      <td>0.036187</td>\n",
       "      <td>0.666667</td>\n",
       "      <td>1.000</td>\n",
       "      <td>0.500000</td>\n",
       "      <td>0.933333</td>\n",
       "      <td>0.000000</td>\n",
       "      <td>0.048724</td>\n",
       "      <td>0.000000</td>\n",
       "      <td>...</td>\n",
       "      <td>0.000000</td>\n",
       "      <td>0.000000</td>\n",
       "      <td>0.0</td>\n",
       "      <td>0.0</td>\n",
       "      <td>0.0</td>\n",
       "      <td>0.0</td>\n",
       "      <td>0.75</td>\n",
       "      <td>0.25</td>\n",
       "      <td>0.0</td>\n",
       "      <td>0.0</td>\n",
       "    </tr>\n",
       "    <tr>\n",
       "      <th>1449</th>\n",
       "      <td>0.000000</td>\n",
       "      <td>0.160959</td>\n",
       "      <td>0.039342</td>\n",
       "      <td>0.444444</td>\n",
       "      <td>0.625</td>\n",
       "      <td>0.565217</td>\n",
       "      <td>0.766667</td>\n",
       "      <td>0.000000</td>\n",
       "      <td>0.008682</td>\n",
       "      <td>0.698100</td>\n",
       "      <td>...</td>\n",
       "      <td>0.000000</td>\n",
       "      <td>0.333333</td>\n",
       "      <td>0.0</td>\n",
       "      <td>0.0</td>\n",
       "      <td>0.0</td>\n",
       "      <td>0.0</td>\n",
       "      <td>0.00</td>\n",
       "      <td>0.00</td>\n",
       "      <td>0.0</td>\n",
       "      <td>0.0</td>\n",
       "    </tr>\n",
       "    <tr>\n",
       "      <th>1450</th>\n",
       "      <td>0.000000</td>\n",
       "      <td>0.184932</td>\n",
       "      <td>0.040370</td>\n",
       "      <td>0.444444</td>\n",
       "      <td>0.625</td>\n",
       "      <td>0.673913</td>\n",
       "      <td>0.250000</td>\n",
       "      <td>0.000000</td>\n",
       "      <td>0.147059</td>\n",
       "      <td>0.196744</td>\n",
       "      <td>...</td>\n",
       "      <td>0.000000</td>\n",
       "      <td>0.666667</td>\n",
       "      <td>0.0</td>\n",
       "      <td>0.0</td>\n",
       "      <td>0.0</td>\n",
       "      <td>0.0</td>\n",
       "      <td>0.00</td>\n",
       "      <td>0.00</td>\n",
       "      <td>0.0</td>\n",
       "      <td>0.0</td>\n",
       "    </tr>\n",
       "  </tbody>\n",
       "</table>\n",
       "<p>1451 rows × 78 columns</p>\n",
       "</div>"
      ],
      "text/plain": [
       "      MSSubClass  LotFrontage   LotArea  OverallQual  OverallCond  YearBuilt  \\\n",
       "0       0.235294     0.150685  0.033420     0.666667        0.500   0.949275   \n",
       "1       0.000000     0.202055  0.038795     0.555556        0.875   0.753623   \n",
       "2       0.235294     0.160959  0.046507     0.666667        0.500   0.934783   \n",
       "3       0.294118     0.133562  0.038561     0.666667        0.500   0.311594   \n",
       "4       0.235294     0.215753  0.060576     0.777778        0.500   0.927536   \n",
       "...          ...          ...       ...          ...          ...        ...   \n",
       "1446    0.235294     0.140411  0.030929     0.555556        0.500   0.920290   \n",
       "1447    0.000000     0.219178  0.055505     0.555556        0.625   0.768116   \n",
       "1448    0.294118     0.154110  0.036187     0.666667        1.000   0.500000   \n",
       "1449    0.000000     0.160959  0.039342     0.444444        0.625   0.565217   \n",
       "1450    0.000000     0.184932  0.040370     0.444444        0.625   0.673913   \n",
       "\n",
       "      YearRemodAdd  MasVnrArea  BsmtFinSF1  BsmtFinSF2  ...  GarageType  \\\n",
       "0         0.883333    0.122500    0.125089    0.000000  ...    0.000000   \n",
       "1         0.433333    0.000000    0.173281    0.000000  ...    0.000000   \n",
       "2         0.866667    0.101250    0.086109    0.000000  ...    0.000000   \n",
       "3         0.333333    0.000000    0.038271    0.000000  ...    0.166667   \n",
       "4         0.833333    0.218750    0.116052    0.000000  ...    0.000000   \n",
       "...            ...         ...         ...         ...  ...         ...   \n",
       "1446      0.833333    0.000000    0.000000    0.000000  ...    0.000000   \n",
       "1447      0.633333    0.074375    0.139972    0.110583  ...    0.000000   \n",
       "1448      0.933333    0.000000    0.048724    0.000000  ...    0.000000   \n",
       "1449      0.766667    0.000000    0.008682    0.698100  ...    0.000000   \n",
       "1450      0.250000    0.000000    0.147059    0.196744  ...    0.000000   \n",
       "\n",
       "      GarageFinish  GarageQual  GarageCond  PavedDrive  PoolQC  Fence  \\\n",
       "0         0.000000         0.0         0.0         0.0     0.0   0.00   \n",
       "1         0.000000         0.0         0.0         0.0     0.0   0.00   \n",
       "2         0.000000         0.0         0.0         0.0     0.0   0.00   \n",
       "3         0.333333         0.0         0.0         0.0     0.0   0.00   \n",
       "4         0.000000         0.0         0.0         0.0     0.0   0.00   \n",
       "...            ...         ...         ...         ...     ...    ...   \n",
       "1446      0.000000         0.0         0.0         0.0     0.0   0.00   \n",
       "1447      0.333333         0.0         0.0         0.0     0.0   0.25   \n",
       "1448      0.000000         0.0         0.0         0.0     0.0   0.75   \n",
       "1449      0.333333         0.0         0.0         0.0     0.0   0.00   \n",
       "1450      0.666667         0.0         0.0         0.0     0.0   0.00   \n",
       "\n",
       "      MiscFeature  SaleType  SaleCondition  \n",
       "0            0.00       0.0            0.0  \n",
       "1            0.00       0.0            0.0  \n",
       "2            0.00       0.0            0.0  \n",
       "3            0.00       0.0            0.2  \n",
       "4            0.00       0.0            0.0  \n",
       "...           ...       ...            ...  \n",
       "1446         0.00       0.0            0.0  \n",
       "1447         0.00       0.0            0.0  \n",
       "1448         0.25       0.0            0.0  \n",
       "1449         0.00       0.0            0.0  \n",
       "1450         0.00       0.0            0.0  \n",
       "\n",
       "[1451 rows x 78 columns]"
      ]
     },
     "execution_count": 22,
     "metadata": {},
     "output_type": "execute_result"
    }
   ],
   "source": [
    "X_df"
   ]
  },
  {
   "cell_type": "code",
   "execution_count": 23,
   "id": "horizontal-ballot",
   "metadata": {},
   "outputs": [
    {
     "data": {
      "text/plain": [
       "0       12.247699\n",
       "1       12.109016\n",
       "2       12.317171\n",
       "3       11.849405\n",
       "4       12.429220\n",
       "          ...    \n",
       "1446    12.072547\n",
       "1447    12.254868\n",
       "1448    12.493133\n",
       "1449    11.864469\n",
       "1450    11.901590\n",
       "Name: SalePrice, Length: 1451, dtype: float64"
      ]
     },
     "execution_count": 23,
     "metadata": {},
     "output_type": "execute_result"
    }
   ],
   "source": [
    "y_df"
   ]
  },
  {
   "cell_type": "markdown",
   "id": "adopted-commerce",
   "metadata": {},
   "source": [
    "Linear regression model"
   ]
  },
  {
   "cell_type": "code",
   "execution_count": 24,
   "id": "wireless-peripheral",
   "metadata": {},
   "outputs": [
    {
     "data": {
      "text/plain": [
       "LinearRegression()"
      ]
     },
     "execution_count": 24,
     "metadata": {},
     "output_type": "execute_result"
    }
   ],
   "source": [
    "from sklearn.linear_model import LinearRegression\n",
    "regressor = LinearRegression()\n",
    "regressor.fit(X_df, y_df)"
   ]
  },
  {
   "cell_type": "code",
   "execution_count": 25,
   "id": "other-large",
   "metadata": {},
   "outputs": [
    {
     "data": {
      "text/html": [
       "<div>\n",
       "<style scoped>\n",
       "    .dataframe tbody tr th:only-of-type {\n",
       "        vertical-align: middle;\n",
       "    }\n",
       "\n",
       "    .dataframe tbody tr th {\n",
       "        vertical-align: top;\n",
       "    }\n",
       "\n",
       "    .dataframe thead th {\n",
       "        text-align: right;\n",
       "    }\n",
       "</style>\n",
       "<table border=\"1\" class=\"dataframe\">\n",
       "  <thead>\n",
       "    <tr style=\"text-align: right;\">\n",
       "      <th></th>\n",
       "      <th>coefficient</th>\n",
       "    </tr>\n",
       "  </thead>\n",
       "  <tbody>\n",
       "    <tr>\n",
       "      <th>BsmtFinSF1</th>\n",
       "      <td>4.548913e+12</td>\n",
       "    </tr>\n",
       "    <tr>\n",
       "      <th>1stFlrSF</th>\n",
       "      <td>3.475287e+12</td>\n",
       "    </tr>\n",
       "    <tr>\n",
       "      <th>BsmtUnfSF</th>\n",
       "      <td>1.882753e+12</td>\n",
       "    </tr>\n",
       "    <tr>\n",
       "      <th>2ndFlrSF</th>\n",
       "      <td>1.646734e+12</td>\n",
       "    </tr>\n",
       "    <tr>\n",
       "      <th>BsmtFinSF2</th>\n",
       "      <td>1.188005e+12</td>\n",
       "    </tr>\n",
       "  </tbody>\n",
       "</table>\n",
       "</div>"
      ],
      "text/plain": [
       "             coefficient\n",
       "BsmtFinSF1  4.548913e+12\n",
       "1stFlrSF    3.475287e+12\n",
       "BsmtUnfSF   1.882753e+12\n",
       "2ndFlrSF    1.646734e+12\n",
       "BsmtFinSF2  1.188005e+12"
      ]
     },
     "execution_count": 25,
     "metadata": {},
     "output_type": "execute_result"
    }
   ],
   "source": [
    "intercept = regressor.intercept_\n",
    "features = pd.DataFrame(regressor.coef_, X_df.columns, columns=['coefficient'])\n",
    "features.sort_values('coefficient', ascending=False).head()"
   ]
  },
  {
   "cell_type": "code",
   "execution_count": 26,
   "id": "activated-blind",
   "metadata": {},
   "outputs": [],
   "source": [
    "features.coefficient = features.coefficient.abs()\n",
    "stdevs = []\n",
    "for i in X_df.columns:\n",
    "    stdev = d[i].std()\n",
    "    stdevs.append(stdev)\n",
    "\n",
    "features[\"stdev\"] = np.array(stdevs).reshape(-1,1)\n",
    "features[\"importance\"] = features[\"coefficient\"] * features[\"stdev\"]"
   ]
  },
  {
   "cell_type": "code",
   "execution_count": 27,
   "id": "employed-deposit",
   "metadata": {},
   "outputs": [],
   "source": [
    "features['importance_normalized'] = 100*features['importance'] / features['importance'].max()"
   ]
  },
  {
   "cell_type": "code",
   "execution_count": 28,
   "id": "integral-component",
   "metadata": {},
   "outputs": [],
   "source": [
    "features = features.sort_values('importance_normalized', ascending=False).head(10)"
   ]
  },
  {
   "cell_type": "code",
   "execution_count": 29,
   "id": "usual-basics",
   "metadata": {},
   "outputs": [
    {
     "data": {
      "text/plain": [
       "<BarContainer object of 10 artists>"
      ]
     },
     "execution_count": 29,
     "metadata": {},
     "output_type": "execute_result"
    },
    {
     "data": {
      "image/png": "[encoded data removed]",
      "text/plain": [
       "<Figure size 1080x720 with 1 Axes>"
      ]
     },
     "metadata": {
      "needs_background": "light"
     },
     "output_type": "display_data"
    }
   ],
   "source": [
    "plt.figure(figsize=(15, 10))\n",
    "plt.bar(features.index, features.importance_normalized)"
   ]
  },
  {
   "cell_type": "markdown",
   "id": "coastal-shopping",
   "metadata": {},
   "source": [
    "Decision Tree model"
   ]
  },
  {
   "cell_type": "code",
   "execution_count": 30,
   "id": "regulation-issue",
   "metadata": {},
   "outputs": [
    {
     "data": {
      "text/plain": [
       "DecisionTreeRegressor(max_depth=5)"
      ]
     },
     "execution_count": 30,
     "metadata": {},
     "output_type": "execute_result"
    }
   ],
   "source": [
    "from sklearn.tree import DecisionTreeRegressor\n",
    "dtr = DecisionTreeRegressor(max_depth=5)\n",
    "dtr.fit(X_df, y_df)"
   ]
  },
  {
   "cell_type": "code",
   "execution_count": 31,
   "id": "boolean-group",
   "metadata": {},
   "outputs": [],
   "source": [
    "feature_importance = pd.Series(dtr.tree_.compute_feature_importances(), index=X_df.columns)"
   ]
  },
  {
   "cell_type": "code",
   "execution_count": 32,
   "id": "synthetic-second",
   "metadata": {},
   "outputs": [],
   "source": [
    "feature_importance = feature_importance.sort_values(ascending=False).head(10)"
   ]
  },
  {
   "cell_type": "code",
   "execution_count": 33,
   "id": "floppy-cincinnati",
   "metadata": {},
   "outputs": [
    {
     "data": {
      "text/plain": [
       "<BarContainer object of 10 artists>"
      ]
     },
     "execution_count": 33,
     "metadata": {},
     "output_type": "execute_result"
    },
    {
     "data": {
      "image/png": "[encoded data removed]",
      "text/plain": [
       "<Figure size 1080x720 with 1 Axes>"
      ]
     },
     "metadata": {
      "needs_background": "light"
     },
     "output_type": "display_data"
    }
   ],
   "source": [
    "plt.figure(figsize=(15, 10))\n",
    "plt.bar(feature_importance.index, feature_importance.values)"
   ]
  },
  {
   "cell_type": "markdown",
   "id": "indirect-friday",
   "metadata": {},
   "source": [
    "---"
   ]
  },
  {
   "cell_type": "markdown",
   "id": "neutral-booth",
   "metadata": {},
   "source": [
    "### Backward Elimination"
   ]
  },
  {
   "cell_type": "code",
   "execution_count": 34,
   "id": "finite-anxiety",
   "metadata": {},
   "outputs": [],
   "source": [
    "bias = pd.Series(np.ones(X_df.shape[0]), name='bias')\n",
    "X_df = pd.concat([X_df, bias], axis=1)"
   ]
  },
  {
   "cell_type": "code",
   "execution_count": 35,
   "id": "individual-atlanta",
   "metadata": {},
   "outputs": [],
   "source": [
    "import statsmodels.api as sm"
   ]
  },
  {
   "cell_type": "code",
   "execution_count": 36,
   "id": "freelance-baghdad",
   "metadata": {
    "scrolled": false
   },
   "outputs": [
    {
     "name": "stdout",
     "output_type": "stream",
     "text": [
      "removing Exterior2nd feature\n",
      "removing Heating feature\n",
      "removing GarageCond feature\n",
      "removing LowQualFinSF feature\n",
      "removing MoSold feature\n",
      "removing GarageFinish feature\n",
      "removing BsmtUnfSF feature\n",
      "removing MSSubClass feature\n",
      "removing BedroomAbvGr feature\n",
      "removing 2ndFlrSF feature\n",
      "removing GarageQual feature\n",
      "removing BsmtFinType1 feature\n",
      "removing Electrical feature\n",
      "removing MasVnrArea feature\n",
      "removing HouseStyle feature\n",
      "removing LotShape feature\n",
      "removing MasVnrType feature\n",
      "removing BsmtHalfBath feature\n",
      "removing Exterior1st feature\n",
      "removing BsmtExposure feature\n",
      "removing Alley feature\n",
      "removing MSZoning feature\n",
      "removing BsmtFinType2 feature\n",
      "removing BsmtFinSF2 feature\n",
      "removing GarageArea feature\n",
      "removing LotFrontage feature\n",
      "removing BsmtCond feature\n",
      "removing BsmtQual feature\n",
      "removing MiscVal feature\n",
      "removing MiscFeature feature\n",
      "removing OpenPorchSF feature\n",
      "removing EnclosedPorch feature\n",
      "removing Utilities feature\n",
      "removing ExterQual feature\n",
      "removing 3SsnPorch feature\n",
      "removing SaleCondition feature\n",
      "removing YrSold feature\n",
      "removing LandSlope feature\n",
      "removing PavedDrive feature\n",
      "removing Fence feature\n",
      "removing SaleType feature\n",
      "LotArea         1.146936e-06\n",
      "OverallQual     3.710204e-51\n",
      "OverallCond     1.773676e-24\n",
      "YearBuilt       2.238308e-18\n",
      "YearRemodAdd    3.232282e-03\n",
      "BsmtFinSF1      3.179494e-02\n",
      "TotalBsmtSF     2.097627e-02\n",
      "1stFlrSF        1.630395e-04\n",
      "GrLivArea       1.051770e-17\n",
      "BsmtFullBath    1.439870e-09\n",
      "FullBath        6.155521e-06\n",
      "HalfBath        8.425118e-03\n",
      "KitchenAbvGr    2.202966e-02\n",
      "TotRmsAbvGrd    9.162107e-03\n",
      "Fireplaces      2.411211e-02\n",
      "GarageCars      2.374350e-18\n",
      "WoodDeckSF      6.015860e-04\n",
      "ScreenPorch     8.109190e-08\n",
      "PoolArea        5.403685e-10\n",
      "Street          4.825237e-03\n",
      "LandContour     5.881828e-03\n",
      "LotConfig       2.277781e-02\n",
      "Neighborhood    3.104200e-03\n",
      "Condition1      2.434076e-04\n",
      "Condition2      4.457045e-04\n",
      "BldgType        1.530555e-07\n",
      "RoofStyle       6.738346e-04\n",
      "RoofMatl        4.010562e-04\n",
      "ExterCond       4.036866e-02\n",
      "Foundation      2.820331e-02\n",
      "HeatingQC       3.432447e-05\n",
      "CentralAir      4.440326e-03\n",
      "KitchenQual     2.249363e-02\n",
      "Functional      3.745782e-06\n",
      "FireplaceQu     9.815811e-04\n",
      "GarageType      2.598892e-02\n",
      "PoolQC          1.113877e-14\n",
      "bias            0.000000e+00\n",
      "dtype: float64\n",
      "Time took for the operation of backward elimination: 0.817s\n"
     ]
    }
   ],
   "source": [
    "start_time = time.time()\n",
    "X_dff = X_df.copy()\n",
    "p_value_threshold = 0.05\n",
    "non_usefull_feature = []\n",
    "while True: \n",
    "    model = sm.OLS(y_df, X_dff)\n",
    "    results = model.fit()\n",
    "    highest_p_value = -np.inf\n",
    "    worst_feature = None\n",
    "    for i in range(len(results.pvalues)):\n",
    "        if results.pvalues[i] > p_value_threshold and results.pvalues[i] > highest_p_value:\n",
    "            worst_feature = results.pvalues.index[i]\n",
    "            highest_p_value = results.pvalues[i]\n",
    "    if not worst_feature:\n",
    "        print(results.pvalues)\n",
    "        break\n",
    "    print('removing {} feature'.format(worst_feature))\n",
    "    non_usefull_feature.append(worst_feature)\n",
    "    X_dff.drop(worst_feature, axis=1, inplace=True)\n",
    "end_time = time.time()\n",
    "print('Time took for the operation of backward elimination: {}s'.format(np.round(end_time - start_time, 3)))"
   ]
  },
  {
   "cell_type": "markdown",
   "id": "outdoor-portugal",
   "metadata": {},
   "source": [
    "### Model"
   ]
  },
  {
   "cell_type": "code",
   "execution_count": 37,
   "id": "sunset-burner",
   "metadata": {},
   "outputs": [],
   "source": [
    "def to_dataloader(df, target_col, batch_size):\n",
    "    target = torch.tensor(df[target_col].values.astype(np.float32))\n",
    "    data = torch.tensor(df.drop(target_col, axis=1).values.astype(np.float32))\n",
    "\n",
    "    data_tensor = torch.utils.data.TensorDataset(data, target)\n",
    "    data_loader = DataLoader(data_tensor, shuffle=True, batch_size=batch_size)\n",
    "    return data_loader"
   ]
  },
  {
   "cell_type": "markdown",
   "id": "exterior-pollution",
   "metadata": {},
   "source": [
    "Definition of the model"
   ]
  },
  {
   "cell_type": "code",
   "execution_count": 38,
   "id": "typical-newark",
   "metadata": {},
   "outputs": [],
   "source": [
    "class Regressor_nn(nn.Module):\n",
    "    def __init__(self, input_size, hidden_size, n_layers, output_size, activation_function):\n",
    "        super(Regressor_nn, self).__init__()\n",
    "        self.activation_function = activation_function\n",
    "        self.fcs = nn.ModuleList()\n",
    "        self.n_layers = n_layers\n",
    "        self.fcs.append(nn.Linear(input_size, hidden_size[0]))\n",
    "        for i in range(n_layers - 1):\n",
    "            self.fcs.append(nn.Linear(hidden_size[i], hidden_size[i + 1]))\n",
    "        self.fcs.append(nn.Linear(hidden_size[-1], output_size))\n",
    "    def forward(self, x):\n",
    "        for i in range(n_layers):\n",
    "            x = self.activation_function(self.fcs[i](x))\n",
    "        x = self.fcs[-1](x)\n",
    "        x = x.squeeze(1)\n",
    "        return x"
   ]
  },
  {
   "cell_type": "code",
   "execution_count": 39,
   "id": "proud-location",
   "metadata": {},
   "outputs": [],
   "source": [
    "def train(model, train_loader, test_loader, criterion_mse, criterion_mae, optimizer):\n",
    "    start_time = time.time()\n",
    "    epochs_loss_mse = []\n",
    "    epochs_loss_mae = []\n",
    "    epochs_loss_mse_test = []\n",
    "    epochs_loss_mae_test = []\n",
    "    for epoch in tqdm(range(n_epochs), leave=False):\n",
    "        batchs_loss_mse = []\n",
    "        batchs_loss_mae = []\n",
    "        for batch_idx, (data, targets) in enumerate(train_loader):\n",
    "            outputs = model(data)\n",
    "            mse = criterion_mse(outputs, targets)\n",
    "            optimizer.zero_grad()\n",
    "            mse.backward()\n",
    "            optimizer.step()\n",
    "            \n",
    "            with torch.no_grad():\n",
    "                mae = criterion_mae(outputs, targets)\n",
    "            batchs_loss_mse.append(mse.item())\n",
    "            batchs_loss_mae.append(mae.item())\n",
    "        \n",
    "        epochs_loss_mse.append(np.mean(batchs_loss_mse))\n",
    "        epochs_loss_mae.append(np.mean(batchs_loss_mae))\n",
    "        batchs_loss_mse_test, batchs_loss_mae_test, _, _ = check_accuracy(model, test_loader, criterion_mse, criterion_mae)\n",
    "        epochs_loss_mse_test.append(batchs_loss_mse_test)\n",
    "        epochs_loss_mae_test.append(batchs_loss_mae_test)\n",
    "    end_time = time.time()\n",
    "    print('Time took for the operation of training: {}s'.format(np.round(end_time - start_time, 3)))\n",
    "    return epochs_loss_mse, epochs_loss_mae, epochs_loss_mse_test, epochs_loss_mae_test"
   ]
  },
  {
   "cell_type": "code",
   "execution_count": 40,
   "id": "palestinian-essex",
   "metadata": {},
   "outputs": [],
   "source": [
    "def check_accuracy(model, loader, criterion_mse, criterion_mae):\n",
    "    model.eval()\n",
    "    outputs_agg = np.array([])\n",
    "    targets_agg = np.array([])\n",
    "    with torch.no_grad():\n",
    "        batchs_loss_mse = []\n",
    "        batchs_loss_mae = []\n",
    "        for batch_idx, (data, targets) in enumerate(loader):\n",
    "            outputs = model(data)\n",
    "            outputs_agg = np.append(outputs_agg, outputs.numpy())\n",
    "            targets_agg = np.append(targets_agg, targets.numpy())\n",
    "            mse = criterion_mse(outputs, targets)\n",
    "            mae = criterion_mae(outputs, targets)\n",
    "            batchs_loss_mse.append(mse.item())     \n",
    "            batchs_loss_mae.append(mae.item())\n",
    "    print('mse error :{}, mae error :{}'.format(mse.item(), mae.item()))\n",
    "    model.train()\n",
    "    return np.mean(batchs_loss_mse), np.mean(batchs_loss_mae), outputs_agg, targets_agg"
   ]
  },
  {
   "cell_type": "code",
   "execution_count": 41,
   "id": "received-article",
   "metadata": {},
   "outputs": [],
   "source": [
    "def plot_losses(epochs_loss_mse, epochs_loss_mae, epochs_loss_mse_test, epochs_loss_mae_test, title):\n",
    "    fig, axs = plt.subplots(1, 2, figsize=(15, 5))\n",
    "    fig.suptitle(title)\n",
    "    sns.lineplot(data=epochs_loss_mse, label='train data', ax=axs[0])\n",
    "    sns.lineplot(data=epochs_loss_mse_test, label='test data', ax=axs[0])\n",
    "    axs[0].grid()\n",
    "    axs[0].set_title('MSE loss per epoch')\n",
    "    sns.lineplot(data=epochs_loss_mae, label='train data', ax=axs[1])\n",
    "    sns.lineplot(data=epochs_loss_mae_test, label='test data', ax=axs[1])\n",
    "    axs[1].grid()\n",
    "    axs[1].set_title('MAE loss per epoch')\n",
    "    plt.tight_layout()"
   ]
  },
  {
   "cell_type": "code",
   "execution_count": 42,
   "id": "banner-commonwealth",
   "metadata": {},
   "outputs": [],
   "source": [
    "def plot_predictions(outputs_agg, targets_agg):\n",
    "    fig = plt.figure(figsize=(10, 10))\n",
    "    sns.scatterplot(y=outputs_agg, x=targets_agg)\n",
    "    plt.ylabel('predictions')\n",
    "    plt.xlabel('targets')\n",
    "    plt.ylim((np.min(targets_agg), np.max(targets_agg)))"
   ]
  },
  {
   "cell_type": "code",
   "execution_count": 43,
   "id": "comic-geography",
   "metadata": {},
   "outputs": [],
   "source": [
    "batch_size = 64\n",
    "dff = scaler_features(df, log_target=True, 'SalePrice')\n",
    "train_df = dff.sample(frac=.8, random_state=707)\n",
    "test_df = dff.drop(train_df.index)\n",
    "\n",
    "train_loader = to_dataloader(\n",
    "    df=train_df, \n",
    "    target_col='SalePrice', \n",
    "    batch_size=batch_size\n",
    ")\n",
    "test_loader = to_dataloader(\n",
    "    df=test_df, \n",
    "    target_col='SalePrice', \n",
    "    batch_size=batch_size\n",
    ")"
   ]
  },
  {
   "cell_type": "code",
   "execution_count": 44,
   "id": "opposed-league",
   "metadata": {},
   "outputs": [],
   "source": [
    "input_size = dff.shape[1] - 1\n",
    "n_layers = 4\n",
    "hidden_size = [100, 64, 32, 16]\n",
    "activation_function = F.relu\n",
    "output_size = 1\n",
    "lr = 0.001\n",
    "n_epochs = 100"
   ]
  },
  {
   "cell_type": "code",
   "execution_count": 45,
   "id": "enhanced-least",
   "metadata": {
    "scrolled": true
   },
   "outputs": [
    {
     "data": {
      "application/vnd.jupyter.widget-view+json": {
       "model_id": "",
       "version_major": 2,
       "version_minor": 0
      },
      "text/plain": [
       "  0%|          | 0/100 [00:00<?, ?it/s]"
      ]
     },
     "metadata": {},
     "output_type": "display_data"
    },
    {
     "name": "stdout",
     "output_type": "stream",
     "text": [
      "mse error :126.5645523071289, mae error :11.24455738067627\n",
      "mse error :35.87730407714844, mae error :5.923986911773682\n",
      "mse error :3.6168925762176514, mae error :1.395829200744629\n",
      "mse error :1.6874158382415771, mae error :1.0602364540100098\n",
      "mse error :2.398574113845825, mae error :1.3044039011001587\n",
      "mse error :1.453686237335205, mae error :1.0093408823013306\n",
      "mse error :1.5074793100357056, mae error :1.004123568534851\n",
      "mse error :0.9762014746665955, mae error :0.7944197654724121\n",
      "mse error :1.1024057865142822, mae error :0.8651981353759766\n",
      "mse error :0.7937247157096863, mae error :0.7678433656692505\n",
      "mse error :0.7619317173957825, mae error :0.7094135880470276\n",
      "mse error :0.8236612677574158, mae error :0.7714971899986267\n",
      "mse error :0.6564788818359375, mae error :0.6372821927070618\n",
      "mse error :0.7696568965911865, mae error :0.7652724981307983\n",
      "mse error :0.5664243102073669, mae error :0.5935414433479309\n",
      "mse error :0.5665860772132874, mae error :0.6179832220077515\n",
      "mse error :0.2979575991630554, mae error :0.45382413268089294\n",
      "mse error :0.34590449929237366, mae error :0.47076067328453064\n",
      "mse error :0.4243757724761963, mae error :0.5230262875556946\n",
      "mse error :0.3982773423194885, mae error :0.5244808197021484\n",
      "mse error :0.3527544140815735, mae error :0.48616644740104675\n",
      "mse error :0.2711397111415863, mae error :0.43103882670402527\n",
      "mse error :0.24556267261505127, mae error :0.41579392552375793\n",
      "mse error :0.32022807002067566, mae error :0.5010604858398438\n",
      "mse error :0.1674022078514099, mae error :0.32727310061454773\n",
      "mse error :0.14763395488262177, mae error :0.3081311881542206\n",
      "mse error :0.2562091052532196, mae error :0.363836407661438\n",
      "mse error :0.18705210089683533, mae error :0.3383309841156006\n",
      "mse error :0.2935895323753357, mae error :0.41941705346107483\n",
      "mse error :0.2963419556617737, mae error :0.4286189675331116\n",
      "mse error :0.24612553417682648, mae error :0.40262433886528015\n",
      "mse error :0.15171658992767334, mae error :0.30167272686958313\n",
      "mse error :0.1419021040201187, mae error :0.2808201313018799\n",
      "mse error :0.08313153684139252, mae error :0.24418814480304718\n",
      "mse error :0.16308684647083282, mae error :0.3282853960990906\n",
      "mse error :0.1832173466682434, mae error :0.3416256606578827\n",
      "mse error :0.08956646919250488, mae error :0.22491182386875153\n",
      "mse error :0.1571560800075531, mae error :0.27433013916015625\n",
      "mse error :0.08416562527418137, mae error :0.23972555994987488\n",
      "mse error :0.16851495206356049, mae error :0.32938265800476074\n",
      "mse error :0.12627464532852173, mae error :0.2822744846343994\n",
      "mse error :0.15851858258247375, mae error :0.2983461618423462\n",
      "mse error :0.08044493198394775, mae error :0.2217642068862915\n",
      "mse error :0.15090711414813995, mae error :0.29664579033851624\n",
      "mse error :0.07828778028488159, mae error :0.2325022667646408\n",
      "mse error :0.15761291980743408, mae error :0.30506065487861633\n",
      "mse error :0.14005759358406067, mae error :0.2784993350505829\n",
      "mse error :0.13146817684173584, mae error :0.2577083110809326\n",
      "mse error :0.20609232783317566, mae error :0.3200456500053406\n",
      "mse error :0.07884632050991058, mae error :0.21727357804775238\n",
      "mse error :0.11881758272647858, mae error :0.2620590031147003\n",
      "mse error :0.1124035194516182, mae error :0.25862327218055725\n",
      "mse error :0.10857104510068893, mae error :0.25943535566329956\n",
      "mse error :0.1460791975259781, mae error :0.283822238445282\n",
      "mse error :0.07055125385522842, mae error :0.20073267817497253\n",
      "mse error :0.10555210709571838, mae error :0.2828909456729889\n",
      "mse error :0.09317022562026978, mae error :0.21204353868961334\n",
      "mse error :0.06573149561882019, mae error :0.19997139275074005\n",
      "mse error :0.14522668719291687, mae error :0.27632683515548706\n",
      "mse error :0.12646378576755524, mae error :0.2549869418144226\n",
      "mse error :0.05193851515650749, mae error :0.18301372230052948\n",
      "mse error :0.14518654346466064, mae error :0.2790847420692444\n",
      "mse error :0.12600192427635193, mae error :0.2593556046485901\n",
      "mse error :0.106774240732193, mae error :0.23954693973064423\n",
      "mse error :0.112090103328228, mae error :0.21952416002750397\n",
      "mse error :0.03557877987623215, mae error :0.1407630294561386\n",
      "mse error :0.12287075072526932, mae error :0.23283612728118896\n",
      "mse error :0.11891426891088486, mae error :0.26409491896629333\n",
      "mse error :0.05943399295210838, mae error :0.18870919942855835\n",
      "mse error :0.10515596717596054, mae error :0.2294061928987503\n",
      "mse error :0.0776241347193718, mae error :0.23426386713981628\n",
      "mse error :0.06545554101467133, mae error :0.19908301532268524\n",
      "mse error :0.060258299112319946, mae error :0.1846538484096527\n",
      "mse error :0.1166553795337677, mae error :0.22949005663394928\n",
      "mse error :0.06582284718751907, mae error :0.19794845581054688\n",
      "mse error :0.0948910266160965, mae error :0.23631426692008972\n",
      "mse error :0.050424348562955856, mae error :0.16955798864364624\n",
      "mse error :0.09767580777406693, mae error :0.2523457407951355\n",
      "mse error :0.1231626346707344, mae error :0.2852700352668762\n",
      "mse error :0.05592240393161774, mae error :0.18286673724651337\n",
      "mse error :0.1460152566432953, mae error :0.2788444459438324\n",
      "mse error :0.045383911579847336, mae error :0.1754911094903946\n",
      "mse error :0.0439550057053566, mae error :0.15868346393108368\n",
      "mse error :0.1100335493683815, mae error :0.23910096287727356\n",
      "mse error :0.05982157588005066, mae error :0.17015238106250763\n",
      "mse error :0.06802608072757721, mae error :0.18366120755672455\n",
      "mse error :0.07193657010793686, mae error :0.15452483296394348\n",
      "mse error :0.05052872747182846, mae error :0.148459792137146\n",
      "mse error :0.10883644223213196, mae error :0.21906086802482605\n",
      "mse error :0.07515234500169754, mae error :0.18817812204360962\n",
      "mse error :0.06543643027544022, mae error :0.17877797782421112\n",
      "mse error :0.051367003470659256, mae error :0.18597888946533203\n",
      "mse error :0.11429307609796524, mae error :0.20979051291942596\n",
      "mse error :0.06074865534901619, mae error :0.17839059233665466\n",
      "mse error :0.05437097325921059, mae error :0.18030045926570892\n",
      "mse error :0.06674961000680923, mae error :0.19466501474380493\n",
      "mse error :0.0876157209277153, mae error :0.21737539768218994\n",
      "mse error :0.06889452040195465, mae error :0.1727340668439865\n",
      "mse error :0.08356345444917679, mae error :0.18348681926727295\n",
      "mse error :0.05508763715624809, mae error :0.1561601608991623\n",
      "Time took for the operation of training: 5.277s\n",
      "mse error :0.04340246319770813, mae error :0.16130419075489044\n"
     ]
    },
    {
     "data": {
      "image/png": "[encoded data removed]",
      "text/plain": [
       "<Figure size 1080x360 with 2 Axes>"
      ]
     },
     "metadata": {
      "needs_background": "light"
     },
     "output_type": "display_data"
    },
    {
     "data": {
      "image/png": "[encoded data removed]",
      "text/plain": [
       "<Figure size 720x720 with 1 Axes>"
      ]
     },
     "metadata": {
      "needs_background": "light"
     },
     "output_type": "display_data"
    }
   ],
   "source": [
    "model = Regressor_nn(\n",
    "    input_size=input_size, \n",
    "    hidden_size=hidden_size, \n",
    "    n_layers=n_layers, \n",
    "    output_size=output_size, \n",
    "    activation_function=activation_function\n",
    ")\n",
    "\n",
    "criterion_mse = nn.MSELoss()\n",
    "criterion_mae = nn.L1Loss()\n",
    "optimizer = optim.Adam(model.parameters(), lr)\n",
    "epochs_loss_mse, epochs_loss_mae, epochs_loss_mse_test, epochs_loss_mae_test = train(\n",
    "    model, \n",
    "    train_loader,\n",
    "    test_loader,\n",
    "    criterion_mse,\n",
    "    criterion_mae,\n",
    "    optimizer\n",
    ")\n",
    "plot_losses(\n",
    "    epochs_loss_mse, \n",
    "    epochs_loss_mae,\n",
    "    epochs_loss_mse_test,\n",
    "    epochs_loss_mae_test,\n",
    "    'MSE, {}, and {} layers used for training'.format(str(activation_function).split()[1], str(len(hidden_size)))\n",
    ")\n",
    "_, _, outputs_agg, targets_agg = check_accuracy(model, test_loader, criterion_mse, criterion_mae)\n",
    "plot_predictions(outputs_agg, targets_agg)"
   ]
  },
  {
   "cell_type": "code",
   "execution_count": 46,
   "id": "entitled-success",
   "metadata": {},
   "outputs": [],
   "source": [
    "batch_size = 64\n",
    "dff = df.drop(non_usefull_feature, axis=1)\n",
    "dff = scaler_features(dff, log_target=True, 'SalePrice')\n",
    "train_df = dff.sample(frac=.8, random_state=707)\n",
    "test_df = dff.drop(train_df.index)\n",
    "\n",
    "train_loader = to_dataloader(\n",
    "    df=train_df, \n",
    "    target_col='SalePrice', \n",
    "    batch_size=batch_size\n",
    ")\n",
    "test_loader = to_dataloader(\n",
    "    df=test_df, \n",
    "    target_col='SalePrice', \n",
    "    batch_size=batch_size\n",
    ")"
   ]
  },
  {
   "cell_type": "code",
   "execution_count": 47,
   "id": "indirect-lexington",
   "metadata": {},
   "outputs": [],
   "source": [
    "input_size = dff.shape[1] - 1\n",
    "n_layers = 4\n",
    "hidden_size = [100, 64, 32, 16]\n",
    "activation_function = F.relu\n",
    "output_size = 1\n",
    "lr = 0.001\n",
    "n_epochs = 100"
   ]
  },
  {
   "cell_type": "code",
   "execution_count": 48,
   "id": "extreme-universe",
   "metadata": {
    "scrolled": true
   },
   "outputs": [
    {
     "data": {
      "application/vnd.jupyter.widget-view+json": {
       "model_id": "",
       "version_major": 2,
       "version_minor": 0
      },
      "text/plain": [
       "  0%|          | 0/100 [00:00<?, ?it/s]"
      ]
     },
     "metadata": {},
     "output_type": "display_data"
    },
    {
     "name": "stdout",
     "output_type": "stream",
     "text": [
      "mse error :135.28448486328125, mae error :11.624472618103027\n",
      "mse error :87.29229736328125, mae error :9.33459186553955\n",
      "mse error :15.700034141540527, mae error :3.2125895023345947\n",
      "mse error :4.324047088623047, mae error :1.6640326976776123\n",
      "mse error :3.001875877380371, mae error :1.417922019958496\n",
      "mse error :3.147346258163452, mae error :1.4615941047668457\n",
      "mse error :2.3196334838867188, mae error :1.20051908493042\n",
      "mse error :1.7311276197433472, mae error :1.08872652053833\n",
      "mse error :1.5131574869155884, mae error :1.030121088027954\n",
      "mse error :1.1451947689056396, mae error :0.8493231534957886\n",
      "mse error :1.0483249425888062, mae error :0.8523301482200623\n",
      "mse error :0.888234555721283, mae error :0.7449309825897217\n",
      "mse error :1.0685821771621704, mae error :0.8395245671272278\n",
      "mse error :0.6253961324691772, mae error :0.5886892080307007\n",
      "mse error :0.6540982723236084, mae error :0.627947986125946\n",
      "mse error :0.6611262559890747, mae error :0.628460168838501\n",
      "mse error :0.609548032283783, mae error :0.6144564151763916\n",
      "mse error :0.49472859501838684, mae error :0.5562036037445068\n",
      "mse error :0.4986875653266907, mae error :0.5675204992294312\n",
      "mse error :0.3693496286869049, mae error :0.4999646544456482\n",
      "mse error :0.3044000566005707, mae error :0.4332903325557709\n",
      "mse error :0.3566106855869293, mae error :0.5032802820205688\n",
      "mse error :0.2833589017391205, mae error :0.4198168218135834\n",
      "mse error :0.553062915802002, mae error :0.5868827104568481\n",
      "mse error :0.22464588284492493, mae error :0.38312971591949463\n",
      "mse error :0.2672099173069, mae error :0.40891164541244507\n",
      "mse error :0.30623939633369446, mae error :0.38488250970840454\n",
      "mse error :0.2101832628250122, mae error :0.3562800884246826\n",
      "mse error :0.19487211108207703, mae error :0.2992197275161743\n",
      "mse error :0.1511811763048172, mae error :0.3139691650867462\n",
      "mse error :0.12074902653694153, mae error :0.2838689088821411\n",
      "mse error :0.24009336531162262, mae error :0.3742004334926605\n",
      "mse error :0.17929263412952423, mae error :0.31316494941711426\n",
      "mse error :0.19691887497901917, mae error :0.3294914662837982\n",
      "mse error :0.23468315601348877, mae error :0.3599059581756592\n",
      "mse error :0.2627062499523163, mae error :0.3707320988178253\n",
      "mse error :0.17575013637542725, mae error :0.3267657458782196\n",
      "mse error :0.09947407990694046, mae error :0.2623494863510132\n",
      "mse error :0.18923243880271912, mae error :0.3540743589401245\n",
      "mse error :0.2540159225463867, mae error :0.3535415530204773\n",
      "mse error :0.15693499147891998, mae error :0.29712140560150146\n",
      "mse error :0.22314995527267456, mae error :0.3447270691394806\n",
      "mse error :0.17693164944648743, mae error :0.2945215404033661\n",
      "mse error :0.23682580888271332, mae error :0.360049307346344\n",
      "mse error :0.08263032883405685, mae error :0.20776036381721497\n",
      "mse error :0.12665410339832306, mae error :0.27264541387557983\n",
      "mse error :0.20437300205230713, mae error :0.3257403075695038\n",
      "mse error :0.1507495492696762, mae error :0.28452998399734497\n",
      "mse error :0.1192789077758789, mae error :0.23495855927467346\n",
      "mse error :0.07256399095058441, mae error :0.21683518588542938\n",
      "mse error :0.13415633141994476, mae error :0.2592954933643341\n",
      "mse error :0.04630325734615326, mae error :0.16663214564323425\n",
      "mse error :0.07417410612106323, mae error :0.2089988738298416\n",
      "mse error :0.09811943769454956, mae error :0.23383595049381256\n",
      "mse error :0.07610537856817245, mae error :0.2011103630065918\n",
      "mse error :0.12664514780044556, mae error :0.26571962237358093\n",
      "mse error :0.0781276598572731, mae error :0.21720676124095917\n",
      "mse error :0.07736377418041229, mae error :0.2154754251241684\n",
      "mse error :0.10276679694652557, mae error :0.22552712261676788\n",
      "mse error :0.07574385404586792, mae error :0.21195843815803528\n",
      "mse error :0.07802053540945053, mae error :0.2049625962972641\n",
      "mse error :0.07805222272872925, mae error :0.20863787829875946\n",
      "mse error :0.05344737693667412, mae error :0.1828700304031372\n",
      "mse error :0.04677151143550873, mae error :0.16836747527122498\n",
      "mse error :0.07524161040782928, mae error :0.2072606384754181\n",
      "mse error :0.037235334515571594, mae error :0.1449606567621231\n",
      "mse error :0.05100897699594498, mae error :0.17242667078971863\n",
      "mse error :0.08508435636758804, mae error :0.22233426570892334\n",
      "mse error :0.051558103412389755, mae error :0.16484543681144714\n",
      "mse error :0.05671122297644615, mae error :0.17717748880386353\n",
      "mse error :0.03254501149058342, mae error :0.14462321996688843\n",
      "mse error :0.06481333076953888, mae error :0.1852376013994217\n",
      "mse error :0.03914744779467583, mae error :0.16218824684619904\n",
      "mse error :0.04633171111345291, mae error :0.17596903443336487\n",
      "mse error :0.08818632364273071, mae error :0.22781702876091003\n",
      "mse error :0.0687917023897171, mae error :0.18684008717536926\n",
      "mse error :0.08944785594940186, mae error :0.2416507750749588\n",
      "mse error :0.0576753169298172, mae error :0.1849602460861206\n",
      "mse error :0.05567370355129242, mae error :0.18655401468276978\n",
      "mse error :0.029939981177449226, mae error :0.13367414474487305\n",
      "mse error :0.03142306208610535, mae error :0.14484821259975433\n",
      "mse error :0.0347229428589344, mae error :0.139690563082695\n",
      "mse error :0.019306078553199768, mae error :0.10263597220182419\n",
      "mse error :0.03058520518243313, mae error :0.1384202390909195\n",
      "mse error :0.030735190957784653, mae error :0.13034188747406006\n",
      "mse error :0.024915127083659172, mae error :0.11129387468099594\n",
      "mse error :0.04408984258770943, mae error :0.15546804666519165\n",
      "mse error :0.03907014802098274, mae error :0.16084454953670502\n",
      "mse error :0.03315604478120804, mae error :0.13498039543628693\n",
      "mse error :0.017472876235842705, mae error :0.11086996644735336\n",
      "mse error :0.031821660697460175, mae error :0.12868162989616394\n",
      "mse error :0.05792230740189552, mae error :0.19389937818050385\n",
      "mse error :0.04406721517443657, mae error :0.14439764618873596\n",
      "mse error :0.038145340979099274, mae error :0.1457607001066208\n",
      "mse error :0.039734337478876114, mae error :0.14681676030158997\n",
      "mse error :0.03665371611714363, mae error :0.1314806342124939\n",
      "mse error :0.021009119227528572, mae error :0.09503816068172455\n",
      "mse error :0.023253049701452255, mae error :0.11266430467367172\n",
      "mse error :0.02512986585497856, mae error :0.1093955859541893\n",
      "mse error :0.02826870232820511, mae error :0.12647174298763275\n",
      "Time took for the operation of training: 5.309s\n",
      "mse error :0.02243463695049286, mae error :0.10983747243881226\n"
     ]
    },
    {
     "data": {
      "image/png": "[encoded data removed]",
      "text/plain": [
       "<Figure size 1080x360 with 2 Axes>"
      ]
     },
     "metadata": {
      "needs_background": "light"
     },
     "output_type": "display_data"
    },
    {
     "data": {
      "image/png": "[encoded data removed]",
      "text/plain": [
       "<Figure size 720x720 with 1 Axes>"
      ]
     },
     "metadata": {
      "needs_background": "light"
     },
     "output_type": "display_data"
    }
   ],
   "source": [
    "model = Regressor_nn(\n",
    "    input_size=input_size, \n",
    "    hidden_size=hidden_size, \n",
    "    n_layers=n_layers, \n",
    "    output_size=output_size, \n",
    "    activation_function=activation_function\n",
    ")\n",
    "\n",
    "criterion_mse = nn.MSELoss()\n",
    "criterion_mae = nn.L1Loss()\n",
    "optimizer = optim.Adam(model.parameters(), lr)\n",
    "epochs_loss_mse, epochs_loss_mae, epochs_loss_mse_test, epochs_loss_mae_test = train(\n",
    "    model, \n",
    "    train_loader,\n",
    "    test_loader,\n",
    "    criterion_mse,\n",
    "    criterion_mae,\n",
    "    optimizer\n",
    ")\n",
    "plot_losses(\n",
    "    epochs_loss_mse, \n",
    "    epochs_loss_mae,\n",
    "    epochs_loss_mse_test,\n",
    "    epochs_loss_mae_test,\n",
    "    'MSE, {}, and {} layers used for training'.format(str(activation_function).split()[1], str(len(hidden_size)))\n",
    ")\n",
    "_, _, outputs_agg, targets_agg = check_accuracy(model, test_loader, criterion_mse, criterion_mae)\n",
    "plot_predictions(outputs_agg, targets_agg)"
   ]
  },
  {
   "cell_type": "markdown",
   "id": "historical-container",
   "metadata": {},
   "source": [
    "### PCA dimensionality reduction"
   ]
  },
  {
   "cell_type": "code",
   "execution_count": 103,
   "id": "stunning-pontiac",
   "metadata": {},
   "outputs": [],
   "source": [
    "from sklearn.metrics import confusion_matrix, classification_report"
   ]
  },
  {
   "cell_type": "code",
   "execution_count": 85,
   "id": "hidden-accommodation",
   "metadata": {},
   "outputs": [],
   "source": [
    "sonar_df = pd.read_csv('sonar.all-data', header=None)"
   ]
  },
  {
   "cell_type": "code",
   "execution_count": 86,
   "id": "clinical-avenue",
   "metadata": {},
   "outputs": [
    {
     "name": "stdout",
     "output_type": "stream",
     "text": [
      "Time took for the operation of training: 0.006s\n"
     ]
    }
   ],
   "source": [
    "from sklearn.decomposition import PCA\n",
    "\n",
    "start_time = time.time()\n",
    "\n",
    "sonar_y_df = sonar_df.pop(60)\n",
    "sonar_y_df = pd.Series(pd.factorize(sonar_y_df)[0], name='target')\n",
    "sonar_X_df = sonar_df\n",
    "\n",
    "pca = PCA(.95)\n",
    "sonar_X_df = pd.DataFrame(pca.fit_transform(sonar_X_df))\n",
    "\n",
    "end_time = time.time()\n",
    "print('Time took for the operation of training: {}s'.format(np.round(end_time - start_time, 3)))"
   ]
  },
  {
   "cell_type": "code",
   "execution_count": 253,
   "id": "addressed-complex",
   "metadata": {},
   "outputs": [],
   "source": [
    "class Classifier_nn(nn.Module):\n",
    "    def __init__(self, input_size, hidden_size, n_layers, output_size, activation_function):\n",
    "        super(Classifier_nn, self).__init__()\n",
    "        self.activation_function = activation_function\n",
    "        self.fcs = nn.ModuleList()\n",
    "        self.bcs = nn.ModuleList()\n",
    "        self.n_layers = n_layers\n",
    "        self.fcs.append(nn.Linear(input_size, hidden_size[0]))\n",
    "        self.bcs.append(nn.BatchNorm1d(hidden_size[0]))\n",
    "        for i in range(self.n_layers - 1):\n",
    "            self.fcs.append(nn.Linear(hidden_size[i], hidden_size[i + 1]))\n",
    "            self.bcs.append(nn.BatchNorm1d(hidden_size[i + 1]))\n",
    "        self.fcs.append(nn.Linear(hidden_size[-1], output_size))\n",
    "    def forward(self, x):\n",
    "        for i in range(self.n_layers):\n",
    "            x = self.bcs[i](self.activation_function(self.fcs[i](x)))\n",
    "#             x = self.activation_function(self.fcs[i](x))\n",
    "        x = self.fcs[self.n_layers](x)\n",
    "        x = x.squeeze(1)\n",
    "        return x"
   ]
  },
  {
   "cell_type": "code",
   "execution_count": 217,
   "id": "crude-conjunction",
   "metadata": {},
   "outputs": [],
   "source": [
    "def plot_losses(epochs_acc, epochs_loss, epochs_acc_test, epochs_loss_test, title):\n",
    "    fig, axs = plt.subplots(1, 2, figsize=(15, 5))\n",
    "    fig.suptitle(title)\n",
    "    sns.lineplot(data=epochs_acc, label='train data', ax=axs[0])\n",
    "    sns.lineplot(data=epochs_acc_test, label='test data', ax=axs[0])\n",
    "    axs[0].grid()\n",
    "    axs[0].set_title('Acc per epoch')\n",
    "    sns.lineplot(data=epochs_loss, label='train data', ax=axs[1])\n",
    "    sns.lineplot(data=epochs_loss_test, label='test data', ax=axs[1])\n",
    "    axs[1].grid()\n",
    "    axs[1].set_title('CrossEntropy loss per epoch')\n",
    "    plt.tight_layout()"
   ]
  },
  {
   "cell_type": "code",
   "execution_count": 218,
   "id": "center-insert",
   "metadata": {},
   "outputs": [],
   "source": [
    "def train(model, train_loader, test_loader, criterion, optimizer, n_epochs):\n",
    "    epochs_acc = []\n",
    "    epochs_loss = []\n",
    "    epochs_acc_test = []\n",
    "    epochs_loss_test = []\n",
    "    for epoch in tqdm(range(n_epochs), leave=False):\n",
    "        batchs_acc = []\n",
    "        batchs_loss = []\n",
    "        for data, targets in train_loader:\n",
    "            targets = targets.type(torch.LongTensor)\n",
    "            outputs = model(data)\n",
    "            loss = criterion(outputs, targets)\n",
    "            optimizer.zero_grad()\n",
    "            loss.backward()\n",
    "            optimizer.step()\n",
    "            \n",
    "            with torch.no_grad():\n",
    "                _, preds = outputs.max(1)\n",
    "                acc = (preds == targets).sum() / len(targets)\n",
    "            batchs_acc.append(acc.item())\n",
    "            batchs_loss.append(loss.item())\n",
    "        \n",
    "        epochs_acc.append(np.mean(batchs_acc))\n",
    "        epochs_loss.append(np.mean(batchs_loss))\n",
    "        batchs_acc_test, batchs_loss_test, _, _ = check_accuracy(model, test_loader, criterion)\n",
    "        epochs_acc_test.append(batchs_acc_test)\n",
    "        epochs_loss_test.append(batchs_loss_test)\n",
    "    return epochs_acc, epochs_loss, epochs_acc_test, epochs_loss_test"
   ]
  },
  {
   "cell_type": "code",
   "execution_count": 219,
   "id": "hourly-onion",
   "metadata": {},
   "outputs": [],
   "source": [
    "def check_accuracy(model, loader, criterion):\n",
    "    model.eval()\n",
    "    targets_agg = np.array([])\n",
    "    outputs_agg = np.array([])\n",
    "    with torch.no_grad():\n",
    "        batchs_acc = []\n",
    "        batchs_loss = []\n",
    "        for data, targets in loader:\n",
    "            targets_agg = np.append(targets_agg, targets.numpy())\n",
    "            targets = targets.type(torch.LongTensor)\n",
    "            outputs = model(data)\n",
    "            _, preds = outputs.max(1)\n",
    "            outputs_agg = np.append(outputs_agg, preds.numpy())\n",
    "            loss = criterion(outputs, targets)\n",
    "            acc = (preds == targets).sum() / len(targets)\n",
    "            batchs_acc.append(acc.item())     \n",
    "            batchs_loss.append(loss.item())\n",
    "    model.train()\n",
    "    return np.mean(batchs_acc), np.mean(batchs_loss), outputs_agg, targets_agg"
   ]
  },
  {
   "cell_type": "code",
   "execution_count": 255,
   "id": "peripheral-tooth",
   "metadata": {},
   "outputs": [],
   "source": [
    "def test_model(df, input_size, n_layers, hidden_size, activation_function, output_size, lr, n_epochs, batch_size):\n",
    "    df = df.copy()\n",
    "#     df = scaler_features(df, False, 'target')\n",
    "    train_df = df.sample(frac=.8, random_state=707)\n",
    "    test_df = df.drop(train_df.index)\n",
    "    train_loader = to_dataloader(\n",
    "        df=train_df, \n",
    "        target_col='target', \n",
    "        batch_size=batch_size\n",
    "    )\n",
    "    test_loader = to_dataloader(\n",
    "        df=test_df, \n",
    "        target_col='target', \n",
    "        batch_size=batch_size\n",
    "    )\n",
    "    model = Classifier_nn(\n",
    "        input_size=input_size, \n",
    "        hidden_size=hidden_size, \n",
    "        n_layers=n_layers, \n",
    "        output_size=output_size, \n",
    "        activation_function=activation_function\n",
    "    )\n",
    "\n",
    "    criterion = nn.CrossEntropyLoss()\n",
    "    optimizer = optim.Adam(model.parameters(), lr)\n",
    "    epochs_acc, epochs_loss, epochs_acc_test, epochs_loss_test = train(\n",
    "        model, \n",
    "        train_loader,\n",
    "        test_loader,\n",
    "        criterion,\n",
    "        optimizer, \n",
    "        n_epochs\n",
    "    )\n",
    "    plot_losses(\n",
    "        epochs_acc,\n",
    "        epochs_loss,\n",
    "        epochs_acc_test,\n",
    "        epochs_loss_test,\n",
    "        'CrossEntropyLoss, and {} layers used for training'.format(str(len(hidden_size)))\n",
    "    )\n",
    "    _, _, outputs_agg, targets_agg = check_accuracy(model, test_loader, criterion)\n",
    "    fig = plt.figure()\n",
    "    sns.heatmap(confusion_matrix(y_true=targets_agg, y_pred=outputs_agg), annot=True)\n",
    "    print(classification_report(y_pred=outputs_agg, y_true=targets_agg))"
   ]
  },
  {
   "cell_type": "code",
   "execution_count": 256,
   "id": "raised-computer",
   "metadata": {},
   "outputs": [],
   "source": [
    "# sonar_df_pca = pd.concat([sonar_X_df, sonar_y_df], axis=1)\n",
    "# sonar_df_pca.head(3)\n",
    "# test_model(sonar_df_pca, sonar_df_pca.shape[1] - 1, 3, [24, 16, 8], torch.relu, 2, 0.001, 50, 16)"
   ]
  },
  {
   "cell_type": "code",
   "execution_count": 257,
   "id": "engaged-principal",
   "metadata": {},
   "outputs": [],
   "source": [
    "sonar_df = pd.read_csv('sonar.all-data', header=None)"
   ]
  },
  {
   "cell_type": "code",
   "execution_count": 258,
   "id": "signal-benchmark",
   "metadata": {},
   "outputs": [
    {
     "name": "stdout",
     "output_type": "stream",
     "text": [
      "(208, 61)\n"
     ]
    }
   ],
   "source": [
    "print(sonar_df.shape)\n",
    "sonar_df.rename({60: 'target'}, inplace=True, axis=1)\n",
    "sonar_df['target'] = pd.factorize(sonar_df['target'])[0]"
   ]
  },
  {
   "cell_type": "code",
   "execution_count": 259,
   "id": "level-helen",
   "metadata": {},
   "outputs": [
    {
     "data": {
      "application/vnd.jupyter.widget-view+json": {
       "model_id": "",
       "version_major": 2,
       "version_minor": 0
      },
      "text/plain": [
       "  0%|          | 0/100 [00:00<?, ?it/s]"
      ]
     },
     "metadata": {},
     "output_type": "display_data"
    },
    {
     "name": "stdout",
     "output_type": "stream",
     "text": [
      "              precision    recall  f1-score   support\n",
      "\n",
      "         0.0       0.82      0.64      0.72        22\n",
      "         1.0       0.68      0.85      0.76        20\n",
      "\n",
      "    accuracy                           0.74        42\n",
      "   macro avg       0.75      0.74      0.74        42\n",
      "weighted avg       0.76      0.74      0.74        42\n",
      "\n"
     ]
    },
    {
     "data": {
      "image/png": "[encoded data removed]",
      "text/plain": [
       "<Figure size 1080x360 with 2 Axes>"
      ]
     },
     "metadata": {
      "needs_background": "light"
     },
     "output_type": "display_data"
    },
    {
     "data": {
      "image/png": "[encoded data removed]",
      "text/plain": [
       "<Figure size 432x288 with 2 Axes>"
      ]
     },
     "metadata": {
      "needs_background": "light"
     },
     "output_type": "display_data"
    }
   ],
   "source": [
    "test_model(sonar_df, sonar_df.shape[1] - 1, 4, [100, 64, 16, 8], F.relu, 2, 0.01, 100, 16)"
   ]
  },
  {
   "cell_type": "markdown",
   "id": "understood-saudi",
   "metadata": {},
   "source": [
    "### Auto Encoder dimensionality reduction"
   ]
  },
  {
   "cell_type": "code",
   "execution_count": null,
   "id": "critical-bleeding",
   "metadata": {},
   "outputs": [],
   "source": []
  }
 ],
 "metadata": {
  "kernelspec": {
   "display_name": "Python 3",
   "language": "python",
   "name": "python3"
  },
  "language_info": {
   "codemirror_mode": {
    "name": "ipython",
    "version": 3
   },
   "file_extension": ".py",
   "mimetype": "text/x-python",
   "name": "python",
   "nbconvert_exporter": "python",
   "pygments_lexer": "ipython3",
   "version": "3.8.0"
  }
 },
 "nbformat": 4,
 "nbformat_minor": 5
}
