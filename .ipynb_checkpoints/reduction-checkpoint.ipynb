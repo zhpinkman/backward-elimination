{
 "cells": [
  {
   "cell_type": "code",
   "execution_count": 1,
   "id": "downtown-livestock",
   "metadata": {},
   "outputs": [],
   "source": [
    "from tqdm.notebook import tqdm\n",
    "import pandas as pd\n",
    "import numpy as np\n",
    "import torch\n",
    "import torch.nn as nn\n",
    "import torch.nn.functional as F\n",
    "from torchvision import datasets\n",
    "import torchvision\n",
    "from torch.utils.data import DataLoader\n",
    "from sklearn.preprocessing import MinMaxScaler\n",
    "from sklearn.model_selection import train_test_split\n",
    "import seaborn as sns\n",
    "import torch.optim as optim\n",
    "import matplotlib.pyplot as plt\n",
    "import time"
   ]
  },
  {
   "cell_type": "markdown",
   "id": "lesser-necklace",
   "metadata": {},
   "source": [
    "Reading and observing the dataset at hand"
   ]
  },
  {
   "cell_type": "code",
   "execution_count": 2,
   "id": "incorporate-luxury",
   "metadata": {},
   "outputs": [
    {
     "name": "stdout",
     "output_type": "stream",
     "text": [
      "README.md         house prices.csv  reduction.ipynb   sonar.all-data\r\n"
     ]
    }
   ],
   "source": [
    "ls"
   ]
  },
  {
   "cell_type": "code",
   "execution_count": 3,
   "id": "practical-forth",
   "metadata": {},
   "outputs": [],
   "source": [
    "df = pd.read_csv('house prices.csv')\n",
    "df.drop('Id', inplace=True, axis=1)"
   ]
  },
  {
   "cell_type": "code",
   "execution_count": 4,
   "id": "armed-conference",
   "metadata": {},
   "outputs": [
    {
     "data": {
      "text/html": [
       "<div>\n",
       "<style scoped>\n",
       "    .dataframe tbody tr th:only-of-type {\n",
       "        vertical-align: middle;\n",
       "    }\n",
       "\n",
       "    .dataframe tbody tr th {\n",
       "        vertical-align: top;\n",
       "    }\n",
       "\n",
       "    .dataframe thead th {\n",
       "        text-align: right;\n",
       "    }\n",
       "</style>\n",
       "<table border=\"1\" class=\"dataframe\">\n",
       "  <thead>\n",
       "    <tr style=\"text-align: right;\">\n",
       "      <th></th>\n",
       "      <th>MSSubClass</th>\n",
       "      <th>MSZoning</th>\n",
       "      <th>LotFrontage</th>\n",
       "      <th>LotArea</th>\n",
       "      <th>Street</th>\n",
       "      <th>Alley</th>\n",
       "      <th>LotShape</th>\n",
       "      <th>LandContour</th>\n",
       "      <th>Utilities</th>\n",
       "      <th>LotConfig</th>\n",
       "      <th>...</th>\n",
       "      <th>PoolArea</th>\n",
       "      <th>PoolQC</th>\n",
       "      <th>Fence</th>\n",
       "      <th>MiscFeature</th>\n",
       "      <th>MiscVal</th>\n",
       "      <th>MoSold</th>\n",
       "      <th>YrSold</th>\n",
       "      <th>SaleType</th>\n",
       "      <th>SaleCondition</th>\n",
       "      <th>SalePrice</th>\n",
       "    </tr>\n",
       "  </thead>\n",
       "  <tbody>\n",
       "    <tr>\n",
       "      <th>0</th>\n",
       "      <td>60</td>\n",
       "      <td>RL</td>\n",
       "      <td>65.0</td>\n",
       "      <td>8450</td>\n",
       "      <td>Pave</td>\n",
       "      <td>NaN</td>\n",
       "      <td>Reg</td>\n",
       "      <td>Lvl</td>\n",
       "      <td>AllPub</td>\n",
       "      <td>Inside</td>\n",
       "      <td>...</td>\n",
       "      <td>0</td>\n",
       "      <td>NaN</td>\n",
       "      <td>NaN</td>\n",
       "      <td>NaN</td>\n",
       "      <td>0</td>\n",
       "      <td>2</td>\n",
       "      <td>2008</td>\n",
       "      <td>WD</td>\n",
       "      <td>Normal</td>\n",
       "      <td>208500</td>\n",
       "    </tr>\n",
       "    <tr>\n",
       "      <th>1</th>\n",
       "      <td>20</td>\n",
       "      <td>RL</td>\n",
       "      <td>80.0</td>\n",
       "      <td>9600</td>\n",
       "      <td>Pave</td>\n",
       "      <td>NaN</td>\n",
       "      <td>Reg</td>\n",
       "      <td>Lvl</td>\n",
       "      <td>AllPub</td>\n",
       "      <td>FR2</td>\n",
       "      <td>...</td>\n",
       "      <td>0</td>\n",
       "      <td>NaN</td>\n",
       "      <td>NaN</td>\n",
       "      <td>NaN</td>\n",
       "      <td>0</td>\n",
       "      <td>5</td>\n",
       "      <td>2007</td>\n",
       "      <td>WD</td>\n",
       "      <td>Normal</td>\n",
       "      <td>181500</td>\n",
       "    </tr>\n",
       "    <tr>\n",
       "      <th>2</th>\n",
       "      <td>60</td>\n",
       "      <td>RL</td>\n",
       "      <td>68.0</td>\n",
       "      <td>11250</td>\n",
       "      <td>Pave</td>\n",
       "      <td>NaN</td>\n",
       "      <td>IR1</td>\n",
       "      <td>Lvl</td>\n",
       "      <td>AllPub</td>\n",
       "      <td>Inside</td>\n",
       "      <td>...</td>\n",
       "      <td>0</td>\n",
       "      <td>NaN</td>\n",
       "      <td>NaN</td>\n",
       "      <td>NaN</td>\n",
       "      <td>0</td>\n",
       "      <td>9</td>\n",
       "      <td>2008</td>\n",
       "      <td>WD</td>\n",
       "      <td>Normal</td>\n",
       "      <td>223500</td>\n",
       "    </tr>\n",
       "  </tbody>\n",
       "</table>\n",
       "<p>3 rows × 80 columns</p>\n",
       "</div>"
      ],
      "text/plain": [
       "   MSSubClass MSZoning  LotFrontage  LotArea Street Alley LotShape  \\\n",
       "0          60       RL         65.0     8450   Pave   NaN      Reg   \n",
       "1          20       RL         80.0     9600   Pave   NaN      Reg   \n",
       "2          60       RL         68.0    11250   Pave   NaN      IR1   \n",
       "\n",
       "  LandContour Utilities LotConfig  ... PoolArea PoolQC Fence MiscFeature  \\\n",
       "0         Lvl    AllPub    Inside  ...        0    NaN   NaN         NaN   \n",
       "1         Lvl    AllPub       FR2  ...        0    NaN   NaN         NaN   \n",
       "2         Lvl    AllPub    Inside  ...        0    NaN   NaN         NaN   \n",
       "\n",
       "  MiscVal MoSold  YrSold  SaleType  SaleCondition  SalePrice  \n",
       "0       0      2    2008        WD         Normal     208500  \n",
       "1       0      5    2007        WD         Normal     181500  \n",
       "2       0      9    2008        WD         Normal     223500  \n",
       "\n",
       "[3 rows x 80 columns]"
      ]
     },
     "execution_count": 4,
     "metadata": {},
     "output_type": "execute_result"
    }
   ],
   "source": [
    "df.head(3)"
   ]
  },
  {
   "cell_type": "code",
   "execution_count": 5,
   "id": "expensive-fitness",
   "metadata": {},
   "outputs": [
    {
     "name": "stdout",
     "output_type": "stream",
     "text": [
      "<class 'pandas.core.frame.DataFrame'>\n",
      "RangeIndex: 1460 entries, 0 to 1459\n",
      "Data columns (total 80 columns):\n",
      " #   Column         Non-Null Count  Dtype  \n",
      "---  ------         --------------  -----  \n",
      " 0   MSSubClass     1460 non-null   int64  \n",
      " 1   MSZoning       1460 non-null   object \n",
      " 2   LotFrontage    1201 non-null   float64\n",
      " 3   LotArea        1460 non-null   int64  \n",
      " 4   Street         1460 non-null   object \n",
      " 5   Alley          91 non-null     object \n",
      " 6   LotShape       1460 non-null   object \n",
      " 7   LandContour    1460 non-null   object \n",
      " 8   Utilities      1460 non-null   object \n",
      " 9   LotConfig      1460 non-null   object \n",
      " 10  LandSlope      1460 non-null   object \n",
      " 11  Neighborhood   1460 non-null   object \n",
      " 12  Condition1     1460 non-null   object \n",
      " 13  Condition2     1460 non-null   object \n",
      " 14  BldgType       1460 non-null   object \n",
      " 15  HouseStyle     1460 non-null   object \n",
      " 16  OverallQual    1460 non-null   int64  \n",
      " 17  OverallCond    1460 non-null   int64  \n",
      " 18  YearBuilt      1460 non-null   int64  \n",
      " 19  YearRemodAdd   1460 non-null   int64  \n",
      " 20  RoofStyle      1460 non-null   object \n",
      " 21  RoofMatl       1460 non-null   object \n",
      " 22  Exterior1st    1460 non-null   object \n",
      " 23  Exterior2nd    1460 non-null   object \n",
      " 24  MasVnrType     1452 non-null   object \n",
      " 25  MasVnrArea     1452 non-null   float64\n",
      " 26  ExterQual      1460 non-null   object \n",
      " 27  ExterCond      1460 non-null   object \n",
      " 28  Foundation     1460 non-null   object \n",
      " 29  BsmtQual       1423 non-null   object \n",
      " 30  BsmtCond       1423 non-null   object \n",
      " 31  BsmtExposure   1422 non-null   object \n",
      " 32  BsmtFinType1   1423 non-null   object \n",
      " 33  BsmtFinSF1     1460 non-null   int64  \n",
      " 34  BsmtFinType2   1422 non-null   object \n",
      " 35  BsmtFinSF2     1460 non-null   int64  \n",
      " 36  BsmtUnfSF      1460 non-null   int64  \n",
      " 37  TotalBsmtSF    1460 non-null   int64  \n",
      " 38  Heating        1460 non-null   object \n",
      " 39  HeatingQC      1460 non-null   object \n",
      " 40  CentralAir     1460 non-null   object \n",
      " 41  Electrical     1459 non-null   object \n",
      " 42  1stFlrSF       1460 non-null   int64  \n",
      " 43  2ndFlrSF       1460 non-null   int64  \n",
      " 44  LowQualFinSF   1460 non-null   int64  \n",
      " 45  GrLivArea      1460 non-null   int64  \n",
      " 46  BsmtFullBath   1460 non-null   int64  \n",
      " 47  BsmtHalfBath   1460 non-null   int64  \n",
      " 48  FullBath       1460 non-null   int64  \n",
      " 49  HalfBath       1460 non-null   int64  \n",
      " 50  BedroomAbvGr   1460 non-null   int64  \n",
      " 51  KitchenAbvGr   1460 non-null   int64  \n",
      " 52  KitchenQual    1460 non-null   object \n",
      " 53  TotRmsAbvGrd   1460 non-null   int64  \n",
      " 54  Functional     1460 non-null   object \n",
      " 55  Fireplaces     1460 non-null   int64  \n",
      " 56  FireplaceQu    770 non-null    object \n",
      " 57  GarageType     1379 non-null   object \n",
      " 58  GarageYrBlt    1379 non-null   float64\n",
      " 59  GarageFinish   1379 non-null   object \n",
      " 60  GarageCars     1460 non-null   int64  \n",
      " 61  GarageArea     1460 non-null   int64  \n",
      " 62  GarageQual     1379 non-null   object \n",
      " 63  GarageCond     1379 non-null   object \n",
      " 64  PavedDrive     1460 non-null   object \n",
      " 65  WoodDeckSF     1460 non-null   int64  \n",
      " 66  OpenPorchSF    1460 non-null   int64  \n",
      " 67  EnclosedPorch  1460 non-null   int64  \n",
      " 68  3SsnPorch      1460 non-null   int64  \n",
      " 69  ScreenPorch    1460 non-null   int64  \n",
      " 70  PoolArea       1460 non-null   int64  \n",
      " 71  PoolQC         7 non-null      object \n",
      " 72  Fence          281 non-null    object \n",
      " 73  MiscFeature    54 non-null     object \n",
      " 74  MiscVal        1460 non-null   int64  \n",
      " 75  MoSold         1460 non-null   int64  \n",
      " 76  YrSold         1460 non-null   int64  \n",
      " 77  SaleType       1460 non-null   object \n",
      " 78  SaleCondition  1460 non-null   object \n",
      " 79  SalePrice      1460 non-null   int64  \n",
      "dtypes: float64(3), int64(34), object(43)\n",
      "memory usage: 912.6+ KB\n"
     ]
    }
   ],
   "source": [
    "df.info()"
   ]
  },
  {
   "cell_type": "code",
   "execution_count": 6,
   "id": "composite-explorer",
   "metadata": {},
   "outputs": [],
   "source": [
    "def show_nans():\n",
    "    nan_df = pd.DataFrame(df.isna().sum(axis=0), columns=['nan-count'])\n",
    "    nan_df = nan_df.sort_values('nan-count', ascending=False)\n",
    "    return nan_df"
   ]
  },
  {
   "cell_type": "markdown",
   "id": "frozen-mitchell",
   "metadata": {},
   "source": [
    "Removing Nan values if possible and replacing them with the Nan values defined specifically for each"
   ]
  },
  {
   "cell_type": "code",
   "execution_count": 7,
   "id": "funny-johnson",
   "metadata": {},
   "outputs": [
    {
     "data": {
      "text/html": [
       "<div>\n",
       "<style scoped>\n",
       "    .dataframe tbody tr th:only-of-type {\n",
       "        vertical-align: middle;\n",
       "    }\n",
       "\n",
       "    .dataframe tbody tr th {\n",
       "        vertical-align: top;\n",
       "    }\n",
       "\n",
       "    .dataframe thead th {\n",
       "        text-align: right;\n",
       "    }\n",
       "</style>\n",
       "<table border=\"1\" class=\"dataframe\">\n",
       "  <thead>\n",
       "    <tr style=\"text-align: right;\">\n",
       "      <th></th>\n",
       "      <th>nan-count</th>\n",
       "    </tr>\n",
       "  </thead>\n",
       "  <tbody>\n",
       "    <tr>\n",
       "      <th>GarageYrBlt</th>\n",
       "      <td>81</td>\n",
       "    </tr>\n",
       "    <tr>\n",
       "      <th>MasVnrType</th>\n",
       "      <td>8</td>\n",
       "    </tr>\n",
       "    <tr>\n",
       "      <th>MasVnrArea</th>\n",
       "      <td>8</td>\n",
       "    </tr>\n",
       "    <tr>\n",
       "      <th>Electrical</th>\n",
       "      <td>1</td>\n",
       "    </tr>\n",
       "    <tr>\n",
       "      <th>KitchenQual</th>\n",
       "      <td>0</td>\n",
       "    </tr>\n",
       "    <tr>\n",
       "      <th>...</th>\n",
       "      <td>...</td>\n",
       "    </tr>\n",
       "    <tr>\n",
       "      <th>ExterCond</th>\n",
       "      <td>0</td>\n",
       "    </tr>\n",
       "    <tr>\n",
       "      <th>ExterQual</th>\n",
       "      <td>0</td>\n",
       "    </tr>\n",
       "    <tr>\n",
       "      <th>Exterior2nd</th>\n",
       "      <td>0</td>\n",
       "    </tr>\n",
       "    <tr>\n",
       "      <th>Exterior1st</th>\n",
       "      <td>0</td>\n",
       "    </tr>\n",
       "    <tr>\n",
       "      <th>SalePrice</th>\n",
       "      <td>0</td>\n",
       "    </tr>\n",
       "  </tbody>\n",
       "</table>\n",
       "<p>80 rows × 1 columns</p>\n",
       "</div>"
      ],
      "text/plain": [
       "             nan-count\n",
       "GarageYrBlt         81\n",
       "MasVnrType           8\n",
       "MasVnrArea           8\n",
       "Electrical           1\n",
       "KitchenQual          0\n",
       "...                ...\n",
       "ExterCond            0\n",
       "ExterQual            0\n",
       "Exterior2nd          0\n",
       "Exterior1st          0\n",
       "SalePrice            0\n",
       "\n",
       "[80 rows x 1 columns]"
      ]
     },
     "execution_count": 7,
     "metadata": {},
     "output_type": "execute_result"
    }
   ],
   "source": [
    "df['PoolQC'].fillna('NA', inplace=True)\n",
    "df['MiscFeature'].fillna('NA', inplace=True)\n",
    "df['Alley'].fillna('NA', inplace=True)\n",
    "df['Fence'].fillna('NA', inplace=True)\n",
    "df['FireplaceQu'].fillna('NA', inplace=True)\n",
    "df['GarageCond'].fillna('NA', inplace=True)\n",
    "df['GarageFinish'].fillna('NA', inplace=True)\n",
    "df['GarageQual'].fillna('NA', inplace=True)\n",
    "df['GarageType'].fillna('NA', inplace=True)\n",
    "df['BsmtFinType2'].fillna('NA', inplace=True)\n",
    "df['BsmtFinType1'].fillna('NA', inplace=True)\n",
    "df['BsmtExposure'].fillna('NA', inplace=True)\n",
    "df['BsmtCond'].fillna('NA', inplace=True)\n",
    "df['BsmtQual'].fillna('NA', inplace=True)\n",
    "df['LotFrontage'].fillna(df['LotFrontage'].mean(), inplace=True) # should be experimented\n",
    "show_nans()"
   ]
  },
  {
   "cell_type": "code",
   "execution_count": 8,
   "id": "turned-board",
   "metadata": {},
   "outputs": [],
   "source": [
    "df.drop('GarageYrBlt', axis=1, inplace=True)"
   ]
  },
  {
   "cell_type": "code",
   "execution_count": 9,
   "id": "documented-editor",
   "metadata": {},
   "outputs": [],
   "source": [
    "df.dropna(inplace=True)\n",
    "df.drop_duplicates(inplace=True)\n",
    "df.reset_index(drop=True, inplace=True)"
   ]
  },
  {
   "cell_type": "code",
   "execution_count": 10,
   "id": "excited-projection",
   "metadata": {},
   "outputs": [
    {
     "data": {
      "text/plain": [
       "(1451, 79)"
      ]
     },
     "execution_count": 10,
     "metadata": {},
     "output_type": "execute_result"
    }
   ],
   "source": [
    "df.shape"
   ]
  },
  {
   "cell_type": "code",
   "execution_count": 11,
   "id": "italic-worth",
   "metadata": {},
   "outputs": [],
   "source": [
    "number_df = df.select_dtypes('number')\n",
    "object_df = df.select_dtypes('object')"
   ]
  },
  {
   "cell_type": "code",
   "execution_count": 12,
   "id": "latest-capability",
   "metadata": {},
   "outputs": [
    {
     "data": {
      "text/plain": [
       "((1451, 36), (1451, 43))"
      ]
     },
     "execution_count": 12,
     "metadata": {},
     "output_type": "execute_result"
    }
   ],
   "source": [
    "number_df.shape, object_df.shape"
   ]
  },
  {
   "cell_type": "code",
   "execution_count": 13,
   "id": "modular-delhi",
   "metadata": {},
   "outputs": [
    {
     "data": {
      "text/html": [
       "<div>\n",
       "<style scoped>\n",
       "    .dataframe tbody tr th:only-of-type {\n",
       "        vertical-align: middle;\n",
       "    }\n",
       "\n",
       "    .dataframe tbody tr th {\n",
       "        vertical-align: top;\n",
       "    }\n",
       "\n",
       "    .dataframe thead th {\n",
       "        text-align: right;\n",
       "    }\n",
       "</style>\n",
       "<table border=\"1\" class=\"dataframe\">\n",
       "  <thead>\n",
       "    <tr style=\"text-align: right;\">\n",
       "      <th></th>\n",
       "      <th>MSZoning</th>\n",
       "      <th>Street</th>\n",
       "      <th>Alley</th>\n",
       "      <th>LotShape</th>\n",
       "      <th>LandContour</th>\n",
       "      <th>Utilities</th>\n",
       "      <th>LotConfig</th>\n",
       "      <th>LandSlope</th>\n",
       "      <th>Neighborhood</th>\n",
       "      <th>Condition1</th>\n",
       "      <th>...</th>\n",
       "      <th>GarageType</th>\n",
       "      <th>GarageFinish</th>\n",
       "      <th>GarageQual</th>\n",
       "      <th>GarageCond</th>\n",
       "      <th>PavedDrive</th>\n",
       "      <th>PoolQC</th>\n",
       "      <th>Fence</th>\n",
       "      <th>MiscFeature</th>\n",
       "      <th>SaleType</th>\n",
       "      <th>SaleCondition</th>\n",
       "    </tr>\n",
       "  </thead>\n",
       "  <tbody>\n",
       "    <tr>\n",
       "      <th>0</th>\n",
       "      <td>RL</td>\n",
       "      <td>Pave</td>\n",
       "      <td>NA</td>\n",
       "      <td>Reg</td>\n",
       "      <td>Lvl</td>\n",
       "      <td>AllPub</td>\n",
       "      <td>Inside</td>\n",
       "      <td>Gtl</td>\n",
       "      <td>CollgCr</td>\n",
       "      <td>Norm</td>\n",
       "      <td>...</td>\n",
       "      <td>Attchd</td>\n",
       "      <td>RFn</td>\n",
       "      <td>TA</td>\n",
       "      <td>TA</td>\n",
       "      <td>Y</td>\n",
       "      <td>NA</td>\n",
       "      <td>NA</td>\n",
       "      <td>NA</td>\n",
       "      <td>WD</td>\n",
       "      <td>Normal</td>\n",
       "    </tr>\n",
       "    <tr>\n",
       "      <th>1</th>\n",
       "      <td>RL</td>\n",
       "      <td>Pave</td>\n",
       "      <td>NA</td>\n",
       "      <td>Reg</td>\n",
       "      <td>Lvl</td>\n",
       "      <td>AllPub</td>\n",
       "      <td>FR2</td>\n",
       "      <td>Gtl</td>\n",
       "      <td>Veenker</td>\n",
       "      <td>Feedr</td>\n",
       "      <td>...</td>\n",
       "      <td>Attchd</td>\n",
       "      <td>RFn</td>\n",
       "      <td>TA</td>\n",
       "      <td>TA</td>\n",
       "      <td>Y</td>\n",
       "      <td>NA</td>\n",
       "      <td>NA</td>\n",
       "      <td>NA</td>\n",
       "      <td>WD</td>\n",
       "      <td>Normal</td>\n",
       "    </tr>\n",
       "    <tr>\n",
       "      <th>2</th>\n",
       "      <td>RL</td>\n",
       "      <td>Pave</td>\n",
       "      <td>NA</td>\n",
       "      <td>IR1</td>\n",
       "      <td>Lvl</td>\n",
       "      <td>AllPub</td>\n",
       "      <td>Inside</td>\n",
       "      <td>Gtl</td>\n",
       "      <td>CollgCr</td>\n",
       "      <td>Norm</td>\n",
       "      <td>...</td>\n",
       "      <td>Attchd</td>\n",
       "      <td>RFn</td>\n",
       "      <td>TA</td>\n",
       "      <td>TA</td>\n",
       "      <td>Y</td>\n",
       "      <td>NA</td>\n",
       "      <td>NA</td>\n",
       "      <td>NA</td>\n",
       "      <td>WD</td>\n",
       "      <td>Normal</td>\n",
       "    </tr>\n",
       "  </tbody>\n",
       "</table>\n",
       "<p>3 rows × 43 columns</p>\n",
       "</div>"
      ],
      "text/plain": [
       "  MSZoning Street Alley LotShape LandContour Utilities LotConfig LandSlope  \\\n",
       "0       RL   Pave    NA      Reg         Lvl    AllPub    Inside       Gtl   \n",
       "1       RL   Pave    NA      Reg         Lvl    AllPub       FR2       Gtl   \n",
       "2       RL   Pave    NA      IR1         Lvl    AllPub    Inside       Gtl   \n",
       "\n",
       "  Neighborhood Condition1  ... GarageType GarageFinish GarageQual GarageCond  \\\n",
       "0      CollgCr       Norm  ...     Attchd          RFn         TA         TA   \n",
       "1      Veenker      Feedr  ...     Attchd          RFn         TA         TA   \n",
       "2      CollgCr       Norm  ...     Attchd          RFn         TA         TA   \n",
       "\n",
       "  PavedDrive PoolQC Fence MiscFeature SaleType SaleCondition  \n",
       "0          Y     NA    NA          NA       WD        Normal  \n",
       "1          Y     NA    NA          NA       WD        Normal  \n",
       "2          Y     NA    NA          NA       WD        Normal  \n",
       "\n",
       "[3 rows x 43 columns]"
      ]
     },
     "execution_count": 13,
     "metadata": {},
     "output_type": "execute_result"
    }
   ],
   "source": [
    "object_df.head(3)"
   ]
  },
  {
   "cell_type": "code",
   "execution_count": 14,
   "id": "hollow-jamaica",
   "metadata": {},
   "outputs": [
    {
     "data": {
      "text/html": [
       "<div>\n",
       "<style scoped>\n",
       "    .dataframe tbody tr th:only-of-type {\n",
       "        vertical-align: middle;\n",
       "    }\n",
       "\n",
       "    .dataframe tbody tr th {\n",
       "        vertical-align: top;\n",
       "    }\n",
       "\n",
       "    .dataframe thead th {\n",
       "        text-align: right;\n",
       "    }\n",
       "</style>\n",
       "<table border=\"1\" class=\"dataframe\">\n",
       "  <thead>\n",
       "    <tr style=\"text-align: right;\">\n",
       "      <th></th>\n",
       "      <th>MSSubClass</th>\n",
       "      <th>LotFrontage</th>\n",
       "      <th>LotArea</th>\n",
       "      <th>OverallQual</th>\n",
       "      <th>OverallCond</th>\n",
       "      <th>YearBuilt</th>\n",
       "      <th>YearRemodAdd</th>\n",
       "      <th>MasVnrArea</th>\n",
       "      <th>BsmtFinSF1</th>\n",
       "      <th>BsmtFinSF2</th>\n",
       "      <th>...</th>\n",
       "      <th>WoodDeckSF</th>\n",
       "      <th>OpenPorchSF</th>\n",
       "      <th>EnclosedPorch</th>\n",
       "      <th>3SsnPorch</th>\n",
       "      <th>ScreenPorch</th>\n",
       "      <th>PoolArea</th>\n",
       "      <th>MiscVal</th>\n",
       "      <th>MoSold</th>\n",
       "      <th>YrSold</th>\n",
       "      <th>SalePrice</th>\n",
       "    </tr>\n",
       "  </thead>\n",
       "  <tbody>\n",
       "    <tr>\n",
       "      <th>0</th>\n",
       "      <td>60</td>\n",
       "      <td>65.0</td>\n",
       "      <td>8450</td>\n",
       "      <td>7</td>\n",
       "      <td>5</td>\n",
       "      <td>2003</td>\n",
       "      <td>2003</td>\n",
       "      <td>196.0</td>\n",
       "      <td>706</td>\n",
       "      <td>0</td>\n",
       "      <td>...</td>\n",
       "      <td>0</td>\n",
       "      <td>61</td>\n",
       "      <td>0</td>\n",
       "      <td>0</td>\n",
       "      <td>0</td>\n",
       "      <td>0</td>\n",
       "      <td>0</td>\n",
       "      <td>2</td>\n",
       "      <td>2008</td>\n",
       "      <td>208500</td>\n",
       "    </tr>\n",
       "    <tr>\n",
       "      <th>1</th>\n",
       "      <td>20</td>\n",
       "      <td>80.0</td>\n",
       "      <td>9600</td>\n",
       "      <td>6</td>\n",
       "      <td>8</td>\n",
       "      <td>1976</td>\n",
       "      <td>1976</td>\n",
       "      <td>0.0</td>\n",
       "      <td>978</td>\n",
       "      <td>0</td>\n",
       "      <td>...</td>\n",
       "      <td>298</td>\n",
       "      <td>0</td>\n",
       "      <td>0</td>\n",
       "      <td>0</td>\n",
       "      <td>0</td>\n",
       "      <td>0</td>\n",
       "      <td>0</td>\n",
       "      <td>5</td>\n",
       "      <td>2007</td>\n",
       "      <td>181500</td>\n",
       "    </tr>\n",
       "    <tr>\n",
       "      <th>2</th>\n",
       "      <td>60</td>\n",
       "      <td>68.0</td>\n",
       "      <td>11250</td>\n",
       "      <td>7</td>\n",
       "      <td>5</td>\n",
       "      <td>2001</td>\n",
       "      <td>2002</td>\n",
       "      <td>162.0</td>\n",
       "      <td>486</td>\n",
       "      <td>0</td>\n",
       "      <td>...</td>\n",
       "      <td>0</td>\n",
       "      <td>42</td>\n",
       "      <td>0</td>\n",
       "      <td>0</td>\n",
       "      <td>0</td>\n",
       "      <td>0</td>\n",
       "      <td>0</td>\n",
       "      <td>9</td>\n",
       "      <td>2008</td>\n",
       "      <td>223500</td>\n",
       "    </tr>\n",
       "  </tbody>\n",
       "</table>\n",
       "<p>3 rows × 36 columns</p>\n",
       "</div>"
      ],
      "text/plain": [
       "   MSSubClass  LotFrontage  LotArea  OverallQual  OverallCond  YearBuilt  \\\n",
       "0          60         65.0     8450            7            5       2003   \n",
       "1          20         80.0     9600            6            8       1976   \n",
       "2          60         68.0    11250            7            5       2001   \n",
       "\n",
       "   YearRemodAdd  MasVnrArea  BsmtFinSF1  BsmtFinSF2  ...  WoodDeckSF  \\\n",
       "0          2003       196.0         706           0  ...           0   \n",
       "1          1976         0.0         978           0  ...         298   \n",
       "2          2002       162.0         486           0  ...           0   \n",
       "\n",
       "   OpenPorchSF  EnclosedPorch  3SsnPorch  ScreenPorch  PoolArea  MiscVal  \\\n",
       "0           61              0          0            0         0        0   \n",
       "1            0              0          0            0         0        0   \n",
       "2           42              0          0            0         0        0   \n",
       "\n",
       "   MoSold  YrSold  SalePrice  \n",
       "0       2    2008     208500  \n",
       "1       5    2007     181500  \n",
       "2       9    2008     223500  \n",
       "\n",
       "[3 rows x 36 columns]"
      ]
     },
     "execution_count": 14,
     "metadata": {},
     "output_type": "execute_result"
    }
   ],
   "source": [
    "number_df.head(3)"
   ]
  },
  {
   "cell_type": "code",
   "execution_count": 15,
   "id": "ceramic-garage",
   "metadata": {},
   "outputs": [
    {
     "name": "stderr",
     "output_type": "stream",
     "text": [
      "<ipython-input-15-57231cb53607>:2: SettingWithCopyWarning: \n",
      "A value is trying to be set on a copy of a slice from a DataFrame.\n",
      "Try using .loc[row_indexer,col_indexer] = value instead\n",
      "\n",
      "See the caveats in the documentation: https://pandas.pydata.org/pandas-docs/stable/user_guide/indexing.html#returning-a-view-versus-a-copy\n",
      "  object_df[column] = pd.factorize(object_df[column])[0]\n"
     ]
    }
   ],
   "source": [
    "for column in object_df.columns:\n",
    "    object_df[column] = pd.factorize(object_df[column])[0]"
   ]
  },
  {
   "cell_type": "code",
   "execution_count": 16,
   "id": "smooth-senegal",
   "metadata": {},
   "outputs": [],
   "source": [
    "df = pd.concat([number_df, object_df], axis=1)"
   ]
  },
  {
   "cell_type": "code",
   "execution_count": 17,
   "id": "herbal-discrimination",
   "metadata": {},
   "outputs": [
    {
     "data": {
      "text/plain": [
       "<AxesSubplot:xlabel='SalePrice', ylabel='Count'>"
      ]
     },
     "execution_count": 17,
     "metadata": {},
     "output_type": "execute_result"
    },
    {
     "data": {
      "image/png": "[encoded data removed]",
      "text/plain": [
       "<Figure size 432x288 with 1 Axes>"
      ]
     },
     "metadata": {
      "needs_background": "light"
     },
     "output_type": "display_data"
    }
   ],
   "source": [
    "sns.histplot(np.log(df['SalePrice']))"
   ]
  },
  {
   "cell_type": "code",
   "execution_count": 18,
   "id": "arranged-jefferson",
   "metadata": {},
   "outputs": [],
   "source": [
    "def scaler_features(df, log_target=False):\n",
    "    df_copy = df.copy()\n",
    "    df_copy_target = df_copy.pop('SalePrice')\n",
    "    if log_target:\n",
    "        df_copy_target = np.log1p(df_copy_target)\n",
    "    df_copy_target.reset_index(drop=True, inplace=True)\n",
    "    scaler = MinMaxScaler()\n",
    "    df_copy = pd.DataFrame(scaler.fit_transform(df_copy), columns=df_copy.columns)\n",
    "    df_copy = pd.concat([df_copy, df_copy_target], axis=1)\n",
    "    return df_copy"
   ]
  },
  {
   "cell_type": "markdown",
   "id": "southwest-idaho",
   "metadata": {},
   "source": [
    "### First Part"
   ]
  },
  {
   "cell_type": "code",
   "execution_count": 19,
   "id": "varying-lyric",
   "metadata": {},
   "outputs": [
    {
     "data": {
      "text/plain": [
       "<AxesSubplot:>"
      ]
     },
     "execution_count": 19,
     "metadata": {},
     "output_type": "execute_result"
    },
    {
     "data": {
      "image/png": "[encoded data removed]",
      "text/plain": [
       "<Figure size 1080x720 with 2 Axes>"
      ]
     },
     "metadata": {
      "needs_background": "light"
     },
     "output_type": "display_data"
    }
   ],
   "source": [
    "plt.figure(figsize=(15, 10))\n",
    "sns.heatmap(df.corr(), mask=np.triu(df.corr()), cmap='Blues')"
   ]
  },
  {
   "cell_type": "code",
   "execution_count": 20,
   "id": "corresponding-clothing",
   "metadata": {},
   "outputs": [],
   "source": [
    "d = scaler_features(df, log_target=True)"
   ]
  },
  {
   "cell_type": "code",
   "execution_count": 21,
   "id": "tribal-thing",
   "metadata": {},
   "outputs": [],
   "source": [
    "y_df = d.pop('SalePrice')\n",
    "X_df = d"
   ]
  },
  {
   "cell_type": "code",
   "execution_count": 22,
   "id": "green-season",
   "metadata": {},
   "outputs": [
    {
     "data": {
      "text/html": [
       "<div>\n",
       "<style scoped>\n",
       "    .dataframe tbody tr th:only-of-type {\n",
       "        vertical-align: middle;\n",
       "    }\n",
       "\n",
       "    .dataframe tbody tr th {\n",
       "        vertical-align: top;\n",
       "    }\n",
       "\n",
       "    .dataframe thead th {\n",
       "        text-align: right;\n",
       "    }\n",
       "</style>\n",
       "<table border=\"1\" class=\"dataframe\">\n",
       "  <thead>\n",
       "    <tr style=\"text-align: right;\">\n",
       "      <th></th>\n",
       "      <th>MSSubClass</th>\n",
       "      <th>LotFrontage</th>\n",
       "      <th>LotArea</th>\n",
       "      <th>OverallQual</th>\n",
       "      <th>OverallCond</th>\n",
       "      <th>YearBuilt</th>\n",
       "      <th>YearRemodAdd</th>\n",
       "      <th>MasVnrArea</th>\n",
       "      <th>BsmtFinSF1</th>\n",
       "      <th>BsmtFinSF2</th>\n",
       "      <th>...</th>\n",
       "      <th>GarageType</th>\n",
       "      <th>GarageFinish</th>\n",
       "      <th>GarageQual</th>\n",
       "      <th>GarageCond</th>\n",
       "      <th>PavedDrive</th>\n",
       "      <th>PoolQC</th>\n",
       "      <th>Fence</th>\n",
       "      <th>MiscFeature</th>\n",
       "      <th>SaleType</th>\n",
       "      <th>SaleCondition</th>\n",
       "    </tr>\n",
       "  </thead>\n",
       "  <tbody>\n",
       "    <tr>\n",
       "      <th>0</th>\n",
       "      <td>0.235294</td>\n",
       "      <td>0.150685</td>\n",
       "      <td>0.033420</td>\n",
       "      <td>0.666667</td>\n",
       "      <td>0.500</td>\n",
       "      <td>0.949275</td>\n",
       "      <td>0.883333</td>\n",
       "      <td>0.122500</td>\n",
       "      <td>0.125089</td>\n",
       "      <td>0.000000</td>\n",
       "      <td>...</td>\n",
       "      <td>0.000000</td>\n",
       "      <td>0.000000</td>\n",
       "      <td>0.0</td>\n",
       "      <td>0.0</td>\n",
       "      <td>0.0</td>\n",
       "      <td>0.0</td>\n",
       "      <td>0.00</td>\n",
       "      <td>0.00</td>\n",
       "      <td>0.0</td>\n",
       "      <td>0.0</td>\n",
       "    </tr>\n",
       "    <tr>\n",
       "      <th>1</th>\n",
       "      <td>0.000000</td>\n",
       "      <td>0.202055</td>\n",
       "      <td>0.038795</td>\n",
       "      <td>0.555556</td>\n",
       "      <td>0.875</td>\n",
       "      <td>0.753623</td>\n",
       "      <td>0.433333</td>\n",
       "      <td>0.000000</td>\n",
       "      <td>0.173281</td>\n",
       "      <td>0.000000</td>\n",
       "      <td>...</td>\n",
       "      <td>0.000000</td>\n",
       "      <td>0.000000</td>\n",
       "      <td>0.0</td>\n",
       "      <td>0.0</td>\n",
       "      <td>0.0</td>\n",
       "      <td>0.0</td>\n",
       "      <td>0.00</td>\n",
       "      <td>0.00</td>\n",
       "      <td>0.0</td>\n",
       "      <td>0.0</td>\n",
       "    </tr>\n",
       "    <tr>\n",
       "      <th>2</th>\n",
       "      <td>0.235294</td>\n",
       "      <td>0.160959</td>\n",
       "      <td>0.046507</td>\n",
       "      <td>0.666667</td>\n",
       "      <td>0.500</td>\n",
       "      <td>0.934783</td>\n",
       "      <td>0.866667</td>\n",
       "      <td>0.101250</td>\n",
       "      <td>0.086109</td>\n",
       "      <td>0.000000</td>\n",
       "      <td>...</td>\n",
       "      <td>0.000000</td>\n",
       "      <td>0.000000</td>\n",
       "      <td>0.0</td>\n",
       "      <td>0.0</td>\n",
       "      <td>0.0</td>\n",
       "      <td>0.0</td>\n",
       "      <td>0.00</td>\n",
       "      <td>0.00</td>\n",
       "      <td>0.0</td>\n",
       "      <td>0.0</td>\n",
       "    </tr>\n",
       "    <tr>\n",
       "      <th>3</th>\n",
       "      <td>0.294118</td>\n",
       "      <td>0.133562</td>\n",
       "      <td>0.038561</td>\n",
       "      <td>0.666667</td>\n",
       "      <td>0.500</td>\n",
       "      <td>0.311594</td>\n",
       "      <td>0.333333</td>\n",
       "      <td>0.000000</td>\n",
       "      <td>0.038271</td>\n",
       "      <td>0.000000</td>\n",
       "      <td>...</td>\n",
       "      <td>0.166667</td>\n",
       "      <td>0.333333</td>\n",
       "      <td>0.0</td>\n",
       "      <td>0.0</td>\n",
       "      <td>0.0</td>\n",
       "      <td>0.0</td>\n",
       "      <td>0.00</td>\n",
       "      <td>0.00</td>\n",
       "      <td>0.0</td>\n",
       "      <td>0.2</td>\n",
       "    </tr>\n",
       "    <tr>\n",
       "      <th>4</th>\n",
       "      <td>0.235294</td>\n",
       "      <td>0.215753</td>\n",
       "      <td>0.060576</td>\n",
       "      <td>0.777778</td>\n",
       "      <td>0.500</td>\n",
       "      <td>0.927536</td>\n",
       "      <td>0.833333</td>\n",
       "      <td>0.218750</td>\n",
       "      <td>0.116052</td>\n",
       "      <td>0.000000</td>\n",
       "      <td>...</td>\n",
       "      <td>0.000000</td>\n",
       "      <td>0.000000</td>\n",
       "      <td>0.0</td>\n",
       "      <td>0.0</td>\n",
       "      <td>0.0</td>\n",
       "      <td>0.0</td>\n",
       "      <td>0.00</td>\n",
       "      <td>0.00</td>\n",
       "      <td>0.0</td>\n",
       "      <td>0.0</td>\n",
       "    </tr>\n",
       "    <tr>\n",
       "      <th>...</th>\n",
       "      <td>...</td>\n",
       "      <td>...</td>\n",
       "      <td>...</td>\n",
       "      <td>...</td>\n",
       "      <td>...</td>\n",
       "      <td>...</td>\n",
       "      <td>...</td>\n",
       "      <td>...</td>\n",
       "      <td>...</td>\n",
       "      <td>...</td>\n",
       "      <td>...</td>\n",
       "      <td>...</td>\n",
       "      <td>...</td>\n",
       "      <td>...</td>\n",
       "      <td>...</td>\n",
       "      <td>...</td>\n",
       "      <td>...</td>\n",
       "      <td>...</td>\n",
       "      <td>...</td>\n",
       "      <td>...</td>\n",
       "      <td>...</td>\n",
       "    </tr>\n",
       "    <tr>\n",
       "      <th>1446</th>\n",
       "      <td>0.235294</td>\n",
       "      <td>0.140411</td>\n",
       "      <td>0.030929</td>\n",
       "      <td>0.555556</td>\n",
       "      <td>0.500</td>\n",
       "      <td>0.920290</td>\n",
       "      <td>0.833333</td>\n",
       "      <td>0.000000</td>\n",
       "      <td>0.000000</td>\n",
       "      <td>0.000000</td>\n",
       "      <td>...</td>\n",
       "      <td>0.000000</td>\n",
       "      <td>0.000000</td>\n",
       "      <td>0.0</td>\n",
       "      <td>0.0</td>\n",
       "      <td>0.0</td>\n",
       "      <td>0.0</td>\n",
       "      <td>0.00</td>\n",
       "      <td>0.00</td>\n",
       "      <td>0.0</td>\n",
       "      <td>0.0</td>\n",
       "    </tr>\n",
       "    <tr>\n",
       "      <th>1447</th>\n",
       "      <td>0.000000</td>\n",
       "      <td>0.219178</td>\n",
       "      <td>0.055505</td>\n",
       "      <td>0.555556</td>\n",
       "      <td>0.625</td>\n",
       "      <td>0.768116</td>\n",
       "      <td>0.633333</td>\n",
       "      <td>0.074375</td>\n",
       "      <td>0.139972</td>\n",
       "      <td>0.110583</td>\n",
       "      <td>...</td>\n",
       "      <td>0.000000</td>\n",
       "      <td>0.333333</td>\n",
       "      <td>0.0</td>\n",
       "      <td>0.0</td>\n",
       "      <td>0.0</td>\n",
       "      <td>0.0</td>\n",
       "      <td>0.25</td>\n",
       "      <td>0.00</td>\n",
       "      <td>0.0</td>\n",
       "      <td>0.0</td>\n",
       "    </tr>\n",
       "    <tr>\n",
       "      <th>1448</th>\n",
       "      <td>0.294118</td>\n",
       "      <td>0.154110</td>\n",
       "      <td>0.036187</td>\n",
       "      <td>0.666667</td>\n",
       "      <td>1.000</td>\n",
       "      <td>0.500000</td>\n",
       "      <td>0.933333</td>\n",
       "      <td>0.000000</td>\n",
       "      <td>0.048724</td>\n",
       "      <td>0.000000</td>\n",
       "      <td>...</td>\n",
       "      <td>0.000000</td>\n",
       "      <td>0.000000</td>\n",
       "      <td>0.0</td>\n",
       "      <td>0.0</td>\n",
       "      <td>0.0</td>\n",
       "      <td>0.0</td>\n",
       "      <td>0.75</td>\n",
       "      <td>0.25</td>\n",
       "      <td>0.0</td>\n",
       "      <td>0.0</td>\n",
       "    </tr>\n",
       "    <tr>\n",
       "      <th>1449</th>\n",
       "      <td>0.000000</td>\n",
       "      <td>0.160959</td>\n",
       "      <td>0.039342</td>\n",
       "      <td>0.444444</td>\n",
       "      <td>0.625</td>\n",
       "      <td>0.565217</td>\n",
       "      <td>0.766667</td>\n",
       "      <td>0.000000</td>\n",
       "      <td>0.008682</td>\n",
       "      <td>0.698100</td>\n",
       "      <td>...</td>\n",
       "      <td>0.000000</td>\n",
       "      <td>0.333333</td>\n",
       "      <td>0.0</td>\n",
       "      <td>0.0</td>\n",
       "      <td>0.0</td>\n",
       "      <td>0.0</td>\n",
       "      <td>0.00</td>\n",
       "      <td>0.00</td>\n",
       "      <td>0.0</td>\n",
       "      <td>0.0</td>\n",
       "    </tr>\n",
       "    <tr>\n",
       "      <th>1450</th>\n",
       "      <td>0.000000</td>\n",
       "      <td>0.184932</td>\n",
       "      <td>0.040370</td>\n",
       "      <td>0.444444</td>\n",
       "      <td>0.625</td>\n",
       "      <td>0.673913</td>\n",
       "      <td>0.250000</td>\n",
       "      <td>0.000000</td>\n",
       "      <td>0.147059</td>\n",
       "      <td>0.196744</td>\n",
       "      <td>...</td>\n",
       "      <td>0.000000</td>\n",
       "      <td>0.666667</td>\n",
       "      <td>0.0</td>\n",
       "      <td>0.0</td>\n",
       "      <td>0.0</td>\n",
       "      <td>0.0</td>\n",
       "      <td>0.00</td>\n",
       "      <td>0.00</td>\n",
       "      <td>0.0</td>\n",
       "      <td>0.0</td>\n",
       "    </tr>\n",
       "  </tbody>\n",
       "</table>\n",
       "<p>1451 rows × 78 columns</p>\n",
       "</div>"
      ],
      "text/plain": [
       "      MSSubClass  LotFrontage   LotArea  OverallQual  OverallCond  YearBuilt  \\\n",
       "0       0.235294     0.150685  0.033420     0.666667        0.500   0.949275   \n",
       "1       0.000000     0.202055  0.038795     0.555556        0.875   0.753623   \n",
       "2       0.235294     0.160959  0.046507     0.666667        0.500   0.934783   \n",
       "3       0.294118     0.133562  0.038561     0.666667        0.500   0.311594   \n",
       "4       0.235294     0.215753  0.060576     0.777778        0.500   0.927536   \n",
       "...          ...          ...       ...          ...          ...        ...   \n",
       "1446    0.235294     0.140411  0.030929     0.555556        0.500   0.920290   \n",
       "1447    0.000000     0.219178  0.055505     0.555556        0.625   0.768116   \n",
       "1448    0.294118     0.154110  0.036187     0.666667        1.000   0.500000   \n",
       "1449    0.000000     0.160959  0.039342     0.444444        0.625   0.565217   \n",
       "1450    0.000000     0.184932  0.040370     0.444444        0.625   0.673913   \n",
       "\n",
       "      YearRemodAdd  MasVnrArea  BsmtFinSF1  BsmtFinSF2  ...  GarageType  \\\n",
       "0         0.883333    0.122500    0.125089    0.000000  ...    0.000000   \n",
       "1         0.433333    0.000000    0.173281    0.000000  ...    0.000000   \n",
       "2         0.866667    0.101250    0.086109    0.000000  ...    0.000000   \n",
       "3         0.333333    0.000000    0.038271    0.000000  ...    0.166667   \n",
       "4         0.833333    0.218750    0.116052    0.000000  ...    0.000000   \n",
       "...            ...         ...         ...         ...  ...         ...   \n",
       "1446      0.833333    0.000000    0.000000    0.000000  ...    0.000000   \n",
       "1447      0.633333    0.074375    0.139972    0.110583  ...    0.000000   \n",
       "1448      0.933333    0.000000    0.048724    0.000000  ...    0.000000   \n",
       "1449      0.766667    0.000000    0.008682    0.698100  ...    0.000000   \n",
       "1450      0.250000    0.000000    0.147059    0.196744  ...    0.000000   \n",
       "\n",
       "      GarageFinish  GarageQual  GarageCond  PavedDrive  PoolQC  Fence  \\\n",
       "0         0.000000         0.0         0.0         0.0     0.0   0.00   \n",
       "1         0.000000         0.0         0.0         0.0     0.0   0.00   \n",
       "2         0.000000         0.0         0.0         0.0     0.0   0.00   \n",
       "3         0.333333         0.0         0.0         0.0     0.0   0.00   \n",
       "4         0.000000         0.0         0.0         0.0     0.0   0.00   \n",
       "...            ...         ...         ...         ...     ...    ...   \n",
       "1446      0.000000         0.0         0.0         0.0     0.0   0.00   \n",
       "1447      0.333333         0.0         0.0         0.0     0.0   0.25   \n",
       "1448      0.000000         0.0         0.0         0.0     0.0   0.75   \n",
       "1449      0.333333         0.0         0.0         0.0     0.0   0.00   \n",
       "1450      0.666667         0.0         0.0         0.0     0.0   0.00   \n",
       "\n",
       "      MiscFeature  SaleType  SaleCondition  \n",
       "0            0.00       0.0            0.0  \n",
       "1            0.00       0.0            0.0  \n",
       "2            0.00       0.0            0.0  \n",
       "3            0.00       0.0            0.2  \n",
       "4            0.00       0.0            0.0  \n",
       "...           ...       ...            ...  \n",
       "1446         0.00       0.0            0.0  \n",
       "1447         0.00       0.0            0.0  \n",
       "1448         0.25       0.0            0.0  \n",
       "1449         0.00       0.0            0.0  \n",
       "1450         0.00       0.0            0.0  \n",
       "\n",
       "[1451 rows x 78 columns]"
      ]
     },
     "execution_count": 22,
     "metadata": {},
     "output_type": "execute_result"
    }
   ],
   "source": [
    "X_df"
   ]
  },
  {
   "cell_type": "code",
   "execution_count": 23,
   "id": "horizontal-ballot",
   "metadata": {},
   "outputs": [
    {
     "data": {
      "text/plain": [
       "0       12.247699\n",
       "1       12.109016\n",
       "2       12.317171\n",
       "3       11.849405\n",
       "4       12.429220\n",
       "          ...    \n",
       "1446    12.072547\n",
       "1447    12.254868\n",
       "1448    12.493133\n",
       "1449    11.864469\n",
       "1450    11.901590\n",
       "Name: SalePrice, Length: 1451, dtype: float64"
      ]
     },
     "execution_count": 23,
     "metadata": {},
     "output_type": "execute_result"
    }
   ],
   "source": [
    "y_df"
   ]
  },
  {
   "cell_type": "markdown",
   "id": "adopted-commerce",
   "metadata": {},
   "source": [
    "Linear regression model"
   ]
  },
  {
   "cell_type": "code",
   "execution_count": 24,
   "id": "wireless-peripheral",
   "metadata": {},
   "outputs": [
    {
     "data": {
      "text/plain": [
       "LinearRegression()"
      ]
     },
     "execution_count": 24,
     "metadata": {},
     "output_type": "execute_result"
    }
   ],
   "source": [
    "from sklearn.linear_model import LinearRegression\n",
    "regressor = LinearRegression()\n",
    "regressor.fit(X_df, y_df)"
   ]
  },
  {
   "cell_type": "code",
   "execution_count": 25,
   "id": "other-large",
   "metadata": {},
   "outputs": [
    {
     "data": {
      "text/html": [
       "<div>\n",
       "<style scoped>\n",
       "    .dataframe tbody tr th:only-of-type {\n",
       "        vertical-align: middle;\n",
       "    }\n",
       "\n",
       "    .dataframe tbody tr th {\n",
       "        vertical-align: top;\n",
       "    }\n",
       "\n",
       "    .dataframe thead th {\n",
       "        text-align: right;\n",
       "    }\n",
       "</style>\n",
       "<table border=\"1\" class=\"dataframe\">\n",
       "  <thead>\n",
       "    <tr style=\"text-align: right;\">\n",
       "      <th></th>\n",
       "      <th>coefficient</th>\n",
       "    </tr>\n",
       "  </thead>\n",
       "  <tbody>\n",
       "    <tr>\n",
       "      <th>BsmtFinSF1</th>\n",
       "      <td>4.548913e+12</td>\n",
       "    </tr>\n",
       "    <tr>\n",
       "      <th>1stFlrSF</th>\n",
       "      <td>3.475287e+12</td>\n",
       "    </tr>\n",
       "    <tr>\n",
       "      <th>BsmtUnfSF</th>\n",
       "      <td>1.882753e+12</td>\n",
       "    </tr>\n",
       "    <tr>\n",
       "      <th>2ndFlrSF</th>\n",
       "      <td>1.646734e+12</td>\n",
       "    </tr>\n",
       "    <tr>\n",
       "      <th>BsmtFinSF2</th>\n",
       "      <td>1.188005e+12</td>\n",
       "    </tr>\n",
       "  </tbody>\n",
       "</table>\n",
       "</div>"
      ],
      "text/plain": [
       "             coefficient\n",
       "BsmtFinSF1  4.548913e+12\n",
       "1stFlrSF    3.475287e+12\n",
       "BsmtUnfSF   1.882753e+12\n",
       "2ndFlrSF    1.646734e+12\n",
       "BsmtFinSF2  1.188005e+12"
      ]
     },
     "execution_count": 25,
     "metadata": {},
     "output_type": "execute_result"
    }
   ],
   "source": [
    "intercept = regressor.intercept_\n",
    "features = pd.DataFrame(regressor.coef_, X_df.columns, columns=['coefficient'])\n",
    "features.sort_values('coefficient', ascending=False).head()"
   ]
  },
  {
   "cell_type": "code",
   "execution_count": 26,
   "id": "activated-blind",
   "metadata": {},
   "outputs": [],
   "source": [
    "features.coefficient = features.coefficient.abs()\n",
    "stdevs = []\n",
    "for i in X_df.columns:\n",
    "    stdev = d[i].std()\n",
    "    stdevs.append(stdev)\n",
    "\n",
    "features[\"stdev\"] = np.array(stdevs).reshape(-1,1)\n",
    "features[\"importance\"] = features[\"coefficient\"] * features[\"stdev\"]"
   ]
  },
  {
   "cell_type": "code",
   "execution_count": 27,
   "id": "employed-deposit",
   "metadata": {},
   "outputs": [],
   "source": [
    "features['importance_normalized'] = 100*features['importance'] / features['importance'].max()"
   ]
  },
  {
   "cell_type": "code",
   "execution_count": 28,
   "id": "integral-component",
   "metadata": {},
   "outputs": [],
   "source": [
    "features = features.sort_values('importance_normalized', ascending=False).head(10)"
   ]
  },
  {
   "cell_type": "code",
   "execution_count": 29,
   "id": "usual-basics",
   "metadata": {},
   "outputs": [
    {
     "data": {
      "text/plain": [
       "<BarContainer object of 10 artists>"
      ]
     },
     "execution_count": 29,
     "metadata": {},
     "output_type": "execute_result"
    },
    {
     "data": {
      "image/png": "[encoded data removed]",
      "text/plain": [
       "<Figure size 1080x720 with 1 Axes>"
      ]
     },
     "metadata": {
      "needs_background": "light"
     },
     "output_type": "display_data"
    }
   ],
   "source": [
    "plt.figure(figsize=(15, 10))\n",
    "plt.bar(features.index, features.importance_normalized)"
   ]
  },
  {
   "cell_type": "markdown",
   "id": "coastal-shopping",
   "metadata": {},
   "source": [
    "Decision Tree model"
   ]
  },
  {
   "cell_type": "code",
   "execution_count": 30,
   "id": "regulation-issue",
   "metadata": {},
   "outputs": [
    {
     "data": {
      "text/plain": [
       "DecisionTreeRegressor(max_depth=5)"
      ]
     },
     "execution_count": 30,
     "metadata": {},
     "output_type": "execute_result"
    }
   ],
   "source": [
    "from sklearn.tree import DecisionTreeRegressor\n",
    "dtr = DecisionTreeRegressor(max_depth=5)\n",
    "dtr.fit(X_df, y_df)"
   ]
  },
  {
   "cell_type": "code",
   "execution_count": 31,
   "id": "boolean-group",
   "metadata": {},
   "outputs": [],
   "source": [
    "feature_importance = pd.Series(dtr.tree_.compute_feature_importances(), index=X_df.columns)"
   ]
  },
  {
   "cell_type": "code",
   "execution_count": 32,
   "id": "synthetic-second",
   "metadata": {},
   "outputs": [],
   "source": [
    "feature_importance = feature_importance.sort_values(ascending=False).head(10)"
   ]
  },
  {
   "cell_type": "code",
   "execution_count": 33,
   "id": "floppy-cincinnati",
   "metadata": {},
   "outputs": [
    {
     "data": {
      "text/plain": [
       "<BarContainer object of 10 artists>"
      ]
     },
     "execution_count": 33,
     "metadata": {},
     "output_type": "execute_result"
    },
    {
     "data": {
      "image/png": "[encoded data removed]",
      "text/plain": [
       "<Figure size 1080x720 with 1 Axes>"
      ]
     },
     "metadata": {
      "needs_background": "light"
     },
     "output_type": "display_data"
    }
   ],
   "source": [
    "plt.figure(figsize=(15, 10))\n",
    "plt.bar(feature_importance.index, feature_importance.values)"
   ]
  },
  {
   "cell_type": "markdown",
   "id": "indirect-friday",
   "metadata": {},
   "source": [
    "---"
   ]
  },
  {
   "cell_type": "markdown",
   "id": "neutral-booth",
   "metadata": {},
   "source": [
    "### Backward Elimination"
   ]
  },
  {
   "cell_type": "code",
   "execution_count": 34,
   "id": "finite-anxiety",
   "metadata": {},
   "outputs": [],
   "source": [
    "bias = pd.Series(np.ones(X_df.shape[0]), name='bias')\n",
    "X_df = pd.concat([X_df, bias], axis=1)"
   ]
  },
  {
   "cell_type": "code",
   "execution_count": 35,
   "id": "individual-atlanta",
   "metadata": {},
   "outputs": [],
   "source": [
    "import statsmodels.api as sm"
   ]
  },
  {
   "cell_type": "code",
   "execution_count": 36,
   "id": "equivalent-italy",
   "metadata": {
    "scrolled": false
   },
   "outputs": [
    {
     "name": "stdout",
     "output_type": "stream",
     "text": [
      "removing Exterior2nd feature\n",
      "removing Heating feature\n",
      "removing GarageCond feature\n",
      "removing LowQualFinSF feature\n",
      "removing MoSold feature\n",
      "removing GarageFinish feature\n",
      "removing BsmtUnfSF feature\n",
      "removing MSSubClass feature\n",
      "removing BedroomAbvGr feature\n",
      "removing 2ndFlrSF feature\n",
      "removing GarageQual feature\n",
      "removing BsmtFinType1 feature\n",
      "removing Electrical feature\n",
      "removing MasVnrArea feature\n",
      "removing HouseStyle feature\n",
      "removing LotShape feature\n",
      "removing MasVnrType feature\n",
      "removing BsmtHalfBath feature\n",
      "removing Exterior1st feature\n",
      "removing BsmtExposure feature\n",
      "removing Alley feature\n",
      "removing MSZoning feature\n",
      "removing BsmtFinType2 feature\n",
      "removing BsmtFinSF2 feature\n",
      "removing GarageArea feature\n",
      "removing LotFrontage feature\n",
      "removing BsmtCond feature\n",
      "removing BsmtQual feature\n",
      "removing MiscVal feature\n",
      "removing MiscFeature feature\n",
      "removing OpenPorchSF feature\n",
      "removing EnclosedPorch feature\n",
      "removing Utilities feature\n",
      "removing ExterQual feature\n",
      "removing 3SsnPorch feature\n",
      "removing SaleCondition feature\n",
      "removing YrSold feature\n",
      "removing LandSlope feature\n",
      "removing PavedDrive feature\n",
      "removing Fence feature\n",
      "removing SaleType feature\n",
      "LotArea         1.146936e-06\n",
      "OverallQual     3.710204e-51\n",
      "OverallCond     1.773676e-24\n",
      "YearBuilt       2.238308e-18\n",
      "YearRemodAdd    3.232282e-03\n",
      "BsmtFinSF1      3.179494e-02\n",
      "TotalBsmtSF     2.097627e-02\n",
      "1stFlrSF        1.630395e-04\n",
      "GrLivArea       1.051770e-17\n",
      "BsmtFullBath    1.439870e-09\n",
      "FullBath        6.155521e-06\n",
      "HalfBath        8.425118e-03\n",
      "KitchenAbvGr    2.202966e-02\n",
      "TotRmsAbvGrd    9.162107e-03\n",
      "Fireplaces      2.411211e-02\n",
      "GarageCars      2.374350e-18\n",
      "WoodDeckSF      6.015860e-04\n",
      "ScreenPorch     8.109190e-08\n",
      "PoolArea        5.403685e-10\n",
      "Street          4.825237e-03\n",
      "LandContour     5.881828e-03\n",
      "LotConfig       2.277781e-02\n",
      "Neighborhood    3.104200e-03\n",
      "Condition1      2.434076e-04\n",
      "Condition2      4.457045e-04\n",
      "BldgType        1.530555e-07\n",
      "RoofStyle       6.738346e-04\n",
      "RoofMatl        4.010562e-04\n",
      "ExterCond       4.036866e-02\n",
      "Foundation      2.820331e-02\n",
      "HeatingQC       3.432447e-05\n",
      "CentralAir      4.440326e-03\n",
      "KitchenQual     2.249363e-02\n",
      "Functional      3.745782e-06\n",
      "FireplaceQu     9.815811e-04\n",
      "GarageType      2.598892e-02\n",
      "PoolQC          1.113877e-14\n",
      "bias            0.000000e+00\n",
      "dtype: float64\n",
      "Time took for the operation of backward elimination: 0.806s\n"
     ]
    }
   ],
   "source": [
    "start_time = time.time()\n",
    "X_dff = X_df.copy()\n",
    "p_value_threshold = 0.05\n",
    "non_usefull_feature = []\n",
    "while True: \n",
    "    model = sm.OLS(y_df, X_dff)\n",
    "    results = model.fit()\n",
    "    highest_p_value = -np.inf\n",
    "    worst_feature = None\n",
    "    for i in range(len(results.pvalues)):\n",
    "        if results.pvalues[i] > p_value_threshold and results.pvalues[i] > highest_p_value:\n",
    "            worst_feature = results.pvalues.index[i]\n",
    "            highest_p_value = results.pvalues[i]\n",
    "    if not worst_feature:\n",
    "        print(results.pvalues)\n",
    "        break\n",
    "    print('removing {} feature'.format(worst_feature))\n",
    "    non_usefull_feature.append(worst_feature)\n",
    "    X_dff.drop(worst_feature, axis=1, inplace=True)\n",
    "end_time = time.time()\n",
    "print('Time took for the operation of backward elimination: {}s'.format(np.round(end_time - start_time, 3)))"
   ]
  },
  {
   "cell_type": "markdown",
   "id": "outdoor-portugal",
   "metadata": {},
   "source": [
    "### Model"
   ]
  },
  {
   "cell_type": "code",
   "execution_count": 37,
   "id": "sunset-burner",
   "metadata": {},
   "outputs": [],
   "source": [
    "def to_dataloader(df, target_col, batch_size):\n",
    "    target = torch.tensor(df[target_col].values.astype(np.float32))\n",
    "    data = torch.tensor(df.drop(target_col, axis=1).values.astype(np.float32))\n",
    "\n",
    "    data_tensor = torch.utils.data.TensorDataset(data, target)\n",
    "    data_loader = DataLoader(data_tensor, shuffle=True, batch_size=batch_size)\n",
    "    return data_loader"
   ]
  },
  {
   "cell_type": "markdown",
   "id": "exterior-pollution",
   "metadata": {},
   "source": [
    "Definition of the model"
   ]
  },
  {
   "cell_type": "code",
   "execution_count": 38,
   "id": "typical-newark",
   "metadata": {},
   "outputs": [],
   "source": [
    "class Regressor_nn(nn.Module):\n",
    "    def __init__(self, input_size, hidden_size, n_layers, output_size, activation_function):\n",
    "        super(Regressor_nn, self).__init__()\n",
    "        self.activation_function = activation_function\n",
    "        self.fcs = nn.ModuleList()\n",
    "        self.n_layers = n_layers\n",
    "        self.fcs.append(nn.Linear(input_size, hidden_size[0]))\n",
    "        for i in range(n_layers - 1):\n",
    "            self.fcs.append(nn.Linear(hidden_size[i], hidden_size[i + 1]))\n",
    "        self.fcs.append(nn.Linear(hidden_size[-1], output_size))\n",
    "    def forward(self, x):\n",
    "        for i in range(n_layers):\n",
    "            x = self.activation_function(self.fcs[i](x))\n",
    "        x = self.fcs[-1](x)\n",
    "        x = x.squeeze(1)\n",
    "        return x"
   ]
  },
  {
   "cell_type": "code",
   "execution_count": 39,
   "id": "proud-location",
   "metadata": {},
   "outputs": [],
   "source": [
    "def train(model, train_loader, test_loader, criterion_mse, criterion_mae, optimizer):\n",
    "    epochs_loss_mse = []\n",
    "    epochs_loss_mae = []\n",
    "    epochs_loss_mse_test = []\n",
    "    epochs_loss_mae_test = []\n",
    "    for epoch in tqdm(range(n_epochs), leave=False):\n",
    "        batchs_loss_mse = []\n",
    "        batchs_loss_mae = []\n",
    "        for batch_idx, (data, targets) in enumerate(train_loader):\n",
    "            outputs = model(data)\n",
    "            mse = criterion_mse(outputs, targets)\n",
    "            optimizer.zero_grad()\n",
    "            mse.backward()\n",
    "            optimizer.step()\n",
    "            \n",
    "            with torch.no_grad():\n",
    "                mae = criterion_mae(outputs, targets)\n",
    "            batchs_loss_mse.append(mse.item())\n",
    "            batchs_loss_mae.append(mae.item())\n",
    "        \n",
    "        epochs_loss_mse.append(np.mean(batchs_loss_mse))\n",
    "        epochs_loss_mae.append(np.mean(batchs_loss_mae))\n",
    "        batchs_loss_mse_test, batchs_loss_mae_test, _, _ = check_accuracy(model, test_loader, criterion_mse, criterion_mae)\n",
    "        epochs_loss_mse_test.append(batchs_loss_mse_test)\n",
    "        epochs_loss_mae_test.append(batchs_loss_mae_test)\n",
    "    return epochs_loss_mse, epochs_loss_mae, epochs_loss_mse_test, epochs_loss_mae_test"
   ]
  },
  {
   "cell_type": "code",
   "execution_count": 40,
   "id": "palestinian-essex",
   "metadata": {},
   "outputs": [],
   "source": [
    "def check_accuracy(model, loader, criterion_mse, criterion_mae):\n",
    "    model.eval()\n",
    "    outputs_agg = np.array([])\n",
    "    targets_agg = np.array([])\n",
    "    with torch.no_grad():\n",
    "        batchs_loss_mse = []\n",
    "        batchs_loss_mae = []\n",
    "        for batch_idx, (data, targets) in enumerate(loader):\n",
    "            outputs = model(data)\n",
    "            outputs_agg = np.append(outputs_agg, outputs.numpy())\n",
    "            targets_agg = np.append(targets_agg, targets.numpy())\n",
    "            mse = criterion_mse(outputs, targets)\n",
    "            mae = criterion_mae(outputs, targets)\n",
    "            batchs_loss_mse.append(mse.item())     \n",
    "            batchs_loss_mae.append(mae.item())\n",
    "    print('mse error :{}, mae error :{}'.format(mse.item(), mae.item()))\n",
    "    model.train()\n",
    "    return np.mean(batchs_loss_mse), np.mean(batchs_loss_mae), outputs_agg, targets_agg"
   ]
  },
  {
   "cell_type": "code",
   "execution_count": 41,
   "id": "received-article",
   "metadata": {},
   "outputs": [],
   "source": [
    "def plot_losses(epochs_loss_mse, epochs_loss_mae, epochs_loss_mse_test, epochs_loss_mae_test, title):\n",
    "    fig, axs = plt.subplots(1, 2, figsize=(15, 5))\n",
    "    fig.suptitle(title)\n",
    "    sns.lineplot(data=epochs_loss_mse, label='train data', ax=axs[0])\n",
    "    sns.lineplot(data=epochs_loss_mse_test, label='test data', ax=axs[0])\n",
    "    axs[0].grid()\n",
    "    axs[0].set_title('MSE loss per epoch')\n",
    "    sns.lineplot(data=epochs_loss_mae, label='train data', ax=axs[1])\n",
    "    sns.lineplot(data=epochs_loss_mae_test, label='test data', ax=axs[1])\n",
    "    axs[1].grid()\n",
    "    axs[1].set_title('MAE loss per epoch')\n",
    "    plt.tight_layout()"
   ]
  },
  {
   "cell_type": "code",
   "execution_count": 42,
   "id": "banner-commonwealth",
   "metadata": {},
   "outputs": [],
   "source": [
    "def plot_predictions(outputs_agg, targets_agg):\n",
    "    fig = plt.figure(figsize=(10, 10))\n",
    "    sns.scatterplot(y=outputs_agg, x=targets_agg)\n",
    "    plt.ylabel('predictions')\n",
    "    plt.xlabel('targets')\n",
    "    plt.ylim((np.min(targets_agg), np.max(targets_agg)))"
   ]
  },
  {
   "cell_type": "code",
   "execution_count": 43,
   "id": "comic-geography",
   "metadata": {},
   "outputs": [],
   "source": [
    "batch_size = 64\n",
    "dff = scaler_features(df, log_target=True)\n",
    "train_df = dff.sample(frac=.8, random_state=707)\n",
    "test_df = dff.drop(train_df.index)\n",
    "\n",
    "train_loader = to_dataloader(\n",
    "    df=train_df, \n",
    "    target_col='SalePrice', \n",
    "    batch_size=batch_size\n",
    ")\n",
    "test_loader = to_dataloader(\n",
    "    df=test_df, \n",
    "    target_col='SalePrice', \n",
    "    batch_size=batch_size\n",
    ")"
   ]
  },
  {
   "cell_type": "code",
   "execution_count": 44,
   "id": "opposed-league",
   "metadata": {},
   "outputs": [],
   "source": [
    "input_size = dff.shape[1] - 1\n",
    "n_layers = 4\n",
    "hidden_size = [100, 64, 32, 16]\n",
    "activation_function = F.relu\n",
    "output_size = 1\n",
    "lr = 0.001\n",
    "n_epochs = 100"
   ]
  },
  {
   "cell_type": "code",
   "execution_count": 45,
   "id": "enhanced-least",
   "metadata": {
    "scrolled": false
   },
   "outputs": [
    {
     "data": {
      "application/vnd.jupyter.widget-view+json": {
       "model_id": "",
       "version_major": 2,
       "version_minor": 0
      },
      "text/plain": [
       "  0%|          | 0/100 [00:00<?, ?it/s]"
      ]
     },
     "metadata": {},
     "output_type": "display_data"
    },
    {
     "name": "stdout",
     "output_type": "stream",
     "text": [
      "mse error :138.92929077148438, mae error :11.781973838806152\n",
      "mse error :91.81755828857422, mae error :9.573122024536133\n",
      "mse error :8.878979682922363, mae error :2.36425518989563\n",
      "mse error :4.724217891693115, mae error :1.9004559516906738\n",
      "mse error :2.495213031768799, mae error :1.181544542312622\n",
      "mse error :1.7640982866287231, mae error :1.0987634658813477\n",
      "mse error :1.8546947240829468, mae error :1.078303575515747\n",
      "mse error :1.6857205629348755, mae error :1.088471531867981\n",
      "mse error :1.3006383180618286, mae error :0.948763370513916\n",
      "mse error :1.0860533714294434, mae error :0.8524637818336487\n",
      "mse error :1.0506160259246826, mae error :0.8963744044303894\n",
      "mse error :0.9262604713439941, mae error :0.8045223951339722\n",
      "mse error :0.47874915599823, mae error :0.5854868292808533\n",
      "mse error :0.7483691573143005, mae error :0.6926774382591248\n",
      "mse error :0.5851802229881287, mae error :0.6719242334365845\n",
      "mse error :0.514087975025177, mae error :0.5758578181266785\n",
      "mse error :0.45634058117866516, mae error :0.5574527978897095\n",
      "mse error :0.5125280618667603, mae error :0.5874822735786438\n",
      "mse error :0.45114779472351074, mae error :0.5384984016418457\n",
      "mse error :0.3741110563278198, mae error :0.5011599659919739\n",
      "mse error :0.33342432975769043, mae error :0.4477372169494629\n",
      "mse error :0.4274316132068634, mae error :0.542544960975647\n",
      "mse error :0.4685749411582947, mae error :0.533585250377655\n",
      "mse error :0.428713858127594, mae error :0.5370997190475464\n",
      "mse error :0.17346225678920746, mae error :0.3402513563632965\n",
      "mse error :0.31144383549690247, mae error :0.44741955399513245\n",
      "mse error :0.25250840187072754, mae error :0.3923299014568329\n",
      "mse error :0.29397091269493103, mae error :0.4280257523059845\n",
      "mse error :0.20376865565776825, mae error :0.36019450426101685\n",
      "mse error :0.2205374389886856, mae error :0.3518921434879303\n",
      "mse error :0.19288946688175201, mae error :0.3164025545120239\n",
      "mse error :0.1850832998752594, mae error :0.33243489265441895\n",
      "mse error :0.15086159110069275, mae error :0.32300350069999695\n",
      "mse error :0.15308460593223572, mae error :0.27125054597854614\n",
      "mse error :0.22900262475013733, mae error :0.38027533888816833\n",
      "mse error :0.12913940846920013, mae error :0.2870772182941437\n",
      "mse error :0.21072989702224731, mae error :0.3381477892398834\n",
      "mse error :0.13439737260341644, mae error :0.28484225273132324\n",
      "mse error :0.07967084646224976, mae error :0.20844437181949615\n",
      "mse error :0.19337785243988037, mae error :0.3114572763442993\n",
      "mse error :0.15272054076194763, mae error :0.2951892614364624\n",
      "mse error :0.18647977709770203, mae error :0.3082893490791321\n",
      "mse error :0.1824083924293518, mae error :0.3185231387615204\n",
      "mse error :0.22677436470985413, mae error :0.3176530599594116\n",
      "mse error :0.2219887375831604, mae error :0.36079177260398865\n",
      "mse error :0.08227264136075974, mae error :0.23296420276165009\n",
      "mse error :0.10810371488332748, mae error :0.26168251037597656\n",
      "mse error :0.1742955893278122, mae error :0.3231841027736664\n",
      "mse error :0.11859698593616486, mae error :0.26608210802078247\n",
      "mse error :0.22076313197612762, mae error :0.3362167179584503\n",
      "mse error :0.10145821422338486, mae error :0.22104282677173615\n",
      "mse error :0.12048346549272537, mae error :0.2642887830734253\n",
      "mse error :0.11302464455366135, mae error :0.2502521276473999\n",
      "mse error :0.18610672652721405, mae error :0.3325043022632599\n",
      "mse error :0.0982738733291626, mae error :0.2619295120239258\n",
      "mse error :0.11440247297286987, mae error :0.26013463735580444\n",
      "mse error :0.1681596040725708, mae error :0.3207617402076721\n",
      "mse error :0.13923482596874237, mae error :0.26810532808303833\n",
      "mse error :0.1162232756614685, mae error :0.23160111904144287\n",
      "mse error :0.1293749362230301, mae error :0.28159716725349426\n",
      "mse error :0.11733483523130417, mae error :0.23857733607292175\n",
      "mse error :0.07279438525438309, mae error :0.22141897678375244\n",
      "mse error :0.15542720258235931, mae error :0.2866973578929901\n",
      "mse error :0.07642652094364166, mae error :0.18627338111400604\n",
      "mse error :0.11511711031198502, mae error :0.2477959245443344\n",
      "mse error :0.06236564368009567, mae error :0.193120539188385\n",
      "mse error :0.09084147214889526, mae error :0.23474207520484924\n",
      "mse error :0.061408013105392456, mae error :0.17608273029327393\n",
      "mse error :0.16157940030097961, mae error :0.28008246421813965\n",
      "mse error :0.1223406121134758, mae error :0.23521362245082855\n",
      "mse error :0.049864351749420166, mae error :0.18130798637866974\n",
      "mse error :0.08805704116821289, mae error :0.23674020171165466\n",
      "mse error :0.08450005948543549, mae error :0.22673264145851135\n",
      "mse error :0.0907789021730423, mae error :0.22761303186416626\n",
      "mse error :0.13773298263549805, mae error :0.2572897672653198\n",
      "mse error :0.13164126873016357, mae error :0.260934442281723\n",
      "mse error :0.15244224667549133, mae error :0.2556114196777344\n",
      "mse error :0.09541642665863037, mae error :0.25387826561927795\n",
      "mse error :0.08744502812623978, mae error :0.20940977334976196\n",
      "mse error :0.09331732243299484, mae error :0.20949436724185944\n",
      "mse error :0.04813552647829056, mae error :0.16396427154541016\n",
      "mse error :0.0604737363755703, mae error :0.17756716907024384\n",
      "mse error :0.04203002527356148, mae error :0.15062996745109558\n",
      "mse error :0.0661003589630127, mae error :0.18507780134677887\n",
      "mse error :0.05074228346347809, mae error :0.17697665095329285\n",
      "mse error :0.06808304041624069, mae error :0.19475959241390228\n",
      "mse error :0.08051780611276627, mae error :0.20351797342300415\n",
      "mse error :0.07191301137208939, mae error :0.1945982277393341\n",
      "mse error :0.07989788055419922, mae error :0.2218077927827835\n",
      "mse error :0.06619443744421005, mae error :0.17918163537979126\n",
      "mse error :0.0546281598508358, mae error :0.17793621122837067\n",
      "mse error :0.04179888218641281, mae error :0.15658460557460785\n",
      "mse error :0.055436354130506516, mae error :0.16939522325992584\n",
      "mse error :0.06821373105049133, mae error :0.17929643392562866\n",
      "mse error :0.0672653391957283, mae error :0.2029876708984375\n",
      "mse error :0.07256859540939331, mae error :0.20129983127117157\n",
      "mse error :0.06748108565807343, mae error :0.19565531611442566\n",
      "mse error :0.1134236678481102, mae error :0.23254597187042236\n",
      "mse error :0.045461755245923996, mae error :0.17006003856658936\n",
      "mse error :0.0735219269990921, mae error :0.20851042866706848\n",
      "mse error :0.07742350548505783, mae error :0.2218187302350998\n"
     ]
    },
    {
     "data": {
      "image/png": "[encoded data removed]",
      "text/plain": [
       "<Figure size 1080x360 with 2 Axes>"
      ]
     },
     "metadata": {
      "needs_background": "light"
     },
     "output_type": "display_data"
    },
    {
     "data": {
      "image/png": "[encoded data removed]",
      "text/plain": [
       "<Figure size 720x720 with 1 Axes>"
      ]
     },
     "metadata": {
      "needs_background": "light"
     },
     "output_type": "display_data"
    }
   ],
   "source": [
    "model = Regressor_nn(\n",
    "    input_size=input_size, \n",
    "    hidden_size=hidden_size, \n",
    "    n_layers=n_layers, \n",
    "    output_size=output_size, \n",
    "    activation_function=activation_function\n",
    ")\n",
    "\n",
    "criterion_mse = nn.MSELoss()\n",
    "criterion_mae = nn.L1Loss()\n",
    "optimizer = optim.Adam(model.parameters(), lr)\n",
    "epochs_loss_mse, epochs_loss_mae, epochs_loss_mse_test, epochs_loss_mae_test = train(\n",
    "    model, \n",
    "    train_loader,\n",
    "    test_loader,\n",
    "    criterion_mse,\n",
    "    criterion_mae,\n",
    "    optimizer\n",
    ")\n",
    "plot_losses(\n",
    "    epochs_loss_mse, \n",
    "    epochs_loss_mae,\n",
    "    epochs_loss_mse_test,\n",
    "    epochs_loss_mae_test,\n",
    "    'MSE, {}, and {} layers used for training'.format(str(activation_function).split()[1], str(len(hidden_size)))\n",
    ")\n",
    "_, _, outputs_agg, targets_agg = check_accuracy(model, test_loader, criterion_mse, criterion_mae)\n",
    "plot_predictions(outputs_agg, targets_agg)"
   ]
  },
  {
   "cell_type": "code",
   "execution_count": 46,
   "id": "entitled-success",
   "metadata": {},
   "outputs": [],
   "source": [
    "batch_size = 64\n",
    "dff = df.drop(non_usefull_feature, axis=1)\n",
    "dff = scaler_features(dff, log_target=True)\n",
    "train_df = dff.sample(frac=.8, random_state=707)\n",
    "test_df = dff.drop(train_df.index)\n",
    "\n",
    "train_loader = to_dataloader(\n",
    "    df=train_df, \n",
    "    target_col='SalePrice', \n",
    "    batch_size=batch_size\n",
    ")\n",
    "test_loader = to_dataloader(\n",
    "    df=test_df, \n",
    "    target_col='SalePrice', \n",
    "    batch_size=batch_size\n",
    ")"
   ]
  },
  {
   "cell_type": "code",
   "execution_count": 47,
   "id": "indirect-lexington",
   "metadata": {},
   "outputs": [],
   "source": [
    "input_size = dff.shape[1] - 1\n",
    "n_layers = 4\n",
    "hidden_size = [100, 64, 32, 16]\n",
    "activation_function = F.relu\n",
    "output_size = 1\n",
    "lr = 0.001\n",
    "n_epochs = 100"
   ]
  },
  {
   "cell_type": "code",
   "execution_count": 48,
   "id": "extreme-universe",
   "metadata": {
    "scrolled": false
   },
   "outputs": [
    {
     "data": {
      "application/vnd.jupyter.widget-view+json": {
       "model_id": "",
       "version_major": 2,
       "version_minor": 0
      },
      "text/plain": [
       "  0%|          | 0/100 [00:00<?, ?it/s]"
      ]
     },
     "metadata": {},
     "output_type": "display_data"
    },
    {
     "name": "stdout",
     "output_type": "stream",
     "text": [
      "mse error :146.01846313476562, mae error :12.079410552978516\n",
      "mse error :125.64424133300781, mae error :11.206077575683594\n",
      "mse error :22.43250274658203, mae error :4.607996940612793\n",
      "mse error :3.1026573181152344, mae error :1.4273302555084229\n",
      "mse error :2.246072292327881, mae error :1.2399150133132935\n",
      "mse error :2.080369472503662, mae error :1.1779868602752686\n",
      "mse error :1.6844631433486938, mae error :1.080621600151062\n",
      "mse error :1.8362398147583008, mae error :1.0655179023742676\n",
      "mse error :0.901084303855896, mae error :0.7487348914146423\n",
      "mse error :1.1314979791641235, mae error :0.8433347344398499\n",
      "mse error :1.0945390462875366, mae error :0.8251113295555115\n",
      "mse error :0.8179191946983337, mae error :0.7615418434143066\n",
      "mse error :0.7993857264518738, mae error :0.697594940662384\n",
      "mse error :0.5227345824241638, mae error :0.6319735646247864\n",
      "mse error :0.4627890884876251, mae error :0.548114001750946\n",
      "mse error :0.39401572942733765, mae error :0.507880687713623\n",
      "mse error :0.3634231686592102, mae error :0.48182791471481323\n",
      "mse error :0.37448588013648987, mae error :0.48991280794143677\n",
      "mse error :0.3463887572288513, mae error :0.483308345079422\n",
      "mse error :0.25763964653015137, mae error :0.3800429105758667\n",
      "mse error :0.2934376895427704, mae error :0.38169047236442566\n",
      "mse error :0.21075628697872162, mae error :0.37148866057395935\n",
      "mse error :0.16552899777889252, mae error :0.3344581425189972\n",
      "mse error :0.28318819403648376, mae error :0.38736623525619507\n",
      "mse error :0.20407027006149292, mae error :0.322131484746933\n",
      "mse error :0.08946343511343002, mae error :0.2189704328775406\n",
      "mse error :0.29695993661880493, mae error :0.38498350977897644\n",
      "mse error :0.1617027074098587, mae error :0.27249225974082947\n",
      "mse error :0.2476675659418106, mae error :0.37213996052742004\n",
      "mse error :0.13726571202278137, mae error :0.2685748040676117\n",
      "mse error :0.24678194522857666, mae error :0.3942260444164276\n",
      "mse error :0.23258304595947266, mae error :0.36075618863105774\n",
      "mse error :0.24354247748851776, mae error :0.3518144190311432\n",
      "mse error :0.1549306958913803, mae error :0.2778955399990082\n",
      "mse error :0.18651708960533142, mae error :0.32362693548202515\n",
      "mse error :0.16294725239276886, mae error :0.2989009618759155\n",
      "mse error :0.22740311920642853, mae error :0.3572072684764862\n",
      "mse error :0.16041187942028046, mae error :0.2953178584575653\n",
      "mse error :0.19667166471481323, mae error :0.3000204563140869\n",
      "mse error :0.12372977286577225, mae error :0.2475883811712265\n",
      "mse error :0.16510701179504395, mae error :0.3111567795276642\n",
      "mse error :0.18460677564144135, mae error :0.2656842768192291\n",
      "mse error :0.13040724396705627, mae error :0.2884427607059479\n",
      "mse error :0.10523297637701035, mae error :0.2513571083545685\n",
      "mse error :0.17404887080192566, mae error :0.31118395924568176\n",
      "mse error :0.14545568823814392, mae error :0.2525317668914795\n",
      "mse error :0.10186299681663513, mae error :0.2217871993780136\n",
      "mse error :0.09837105125188828, mae error :0.22842134535312653\n",
      "mse error :0.09627692401409149, mae error :0.22870540618896484\n",
      "mse error :0.0937173143029213, mae error :0.23461997509002686\n",
      "mse error :0.09769079089164734, mae error :0.22818885743618011\n",
      "mse error :0.10465079545974731, mae error :0.24126841127872467\n",
      "mse error :0.0859798714518547, mae error :0.1979408860206604\n",
      "mse error :0.12222123146057129, mae error :0.2378673255443573\n",
      "mse error :0.08648009598255157, mae error :0.2133038491010666\n",
      "mse error :0.10897022485733032, mae error :0.2506239414215088\n",
      "mse error :0.05865481495857239, mae error :0.1819593459367752\n",
      "mse error :0.0642925277352333, mae error :0.1846558302640915\n",
      "mse error :0.046175695955753326, mae error :0.16588392853736877\n",
      "mse error :0.09178296476602554, mae error :0.20629703998565674\n",
      "mse error :0.1241242066025734, mae error :0.2277388870716095\n",
      "mse error :0.10596402734518051, mae error :0.21787065267562866\n",
      "mse error :0.06171421334147453, mae error :0.1902870237827301\n",
      "mse error :0.059711724519729614, mae error :0.16732800006866455\n",
      "mse error :0.04321109876036644, mae error :0.159676194190979\n",
      "mse error :0.10794985294342041, mae error :0.24521376192569733\n",
      "mse error :0.07522629201412201, mae error :0.205335333943367\n",
      "mse error :0.03244130685925484, mae error :0.144074946641922\n",
      "mse error :0.042363449931144714, mae error :0.14961573481559753\n",
      "mse error :0.03676988556981087, mae error :0.16020329296588898\n",
      "mse error :0.05249045789241791, mae error :0.16811281442642212\n",
      "mse error :0.04851146042346954, mae error :0.1522562950849533\n",
      "mse error :0.024527786299586296, mae error :0.12405838817358017\n",
      "mse error :0.04934172332286835, mae error :0.17149919271469116\n",
      "mse error :0.07425898313522339, mae error :0.21577848494052887\n",
      "mse error :0.0453919880092144, mae error :0.16720421612262726\n",
      "mse error :0.047203078866004944, mae error :0.17549368739128113\n",
      "mse error :0.03395485877990723, mae error :0.15314099192619324\n",
      "mse error :0.034429218620061874, mae error :0.14971376955509186\n",
      "mse error :0.052159134298563004, mae error :0.1842183768749237\n",
      "mse error :0.0641217976808548, mae error :0.18494832515716553\n",
      "mse error :0.048151787370443344, mae error :0.1627649962902069\n",
      "mse error :0.04396449401974678, mae error :0.1631665825843811\n",
      "mse error :0.01938381791114807, mae error :0.11722564697265625\n",
      "mse error :0.06058143824338913, mae error :0.18316781520843506\n",
      "mse error :0.03833946958184242, mae error :0.14750805497169495\n",
      "mse error :0.04760819673538208, mae error :0.17102132737636566\n",
      "mse error :0.050342120230197906, mae error :0.16851158440113068\n",
      "mse error :0.03900853544473648, mae error :0.15817391872406006\n",
      "mse error :0.03533082827925682, mae error :0.13579168915748596\n",
      "mse error :0.02836199291050434, mae error :0.13288205862045288\n",
      "mse error :0.026270220056176186, mae error :0.13884370028972626\n",
      "mse error :0.06279067695140839, mae error :0.18012771010398865\n",
      "mse error :0.017321236431598663, mae error :0.1023513600230217\n",
      "mse error :0.03773210942745209, mae error :0.1465175598859787\n",
      "mse error :0.036797504872083664, mae error :0.14652308821678162\n",
      "mse error :0.03840752691030502, mae error :0.14961916208267212\n",
      "mse error :0.028346309438347816, mae error :0.12255388498306274\n",
      "mse error :0.07134728133678436, mae error :0.19177933037281036\n",
      "mse error :0.06235126033425331, mae error :0.17894276976585388\n",
      "mse error :0.03404412791132927, mae error :0.14964443445205688\n"
     ]
    },
    {
     "data": {
      "image/png": "[encoded data removed]",
      "text/plain": [
       "<Figure size 1080x360 with 2 Axes>"
      ]
     },
     "metadata": {
      "needs_background": "light"
     },
     "output_type": "display_data"
    },
    {
     "data": {
      "image/png": "[encoded data removed]",
      "text/plain": [
       "<Figure size 720x720 with 1 Axes>"
      ]
     },
     "metadata": {
      "needs_background": "light"
     },
     "output_type": "display_data"
    }
   ],
   "source": [
    "model = Regressor_nn(\n",
    "    input_size=input_size, \n",
    "    hidden_size=hidden_size, \n",
    "    n_layers=n_layers, \n",
    "    output_size=output_size, \n",
    "    activation_function=activation_function\n",
    ")\n",
    "\n",
    "criterion_mse = nn.MSELoss()\n",
    "criterion_mae = nn.L1Loss()\n",
    "optimizer = optim.Adam(model.parameters(), lr)\n",
    "epochs_loss_mse, epochs_loss_mae, epochs_loss_mse_test, epochs_loss_mae_test = train(\n",
    "    model, \n",
    "    train_loader,\n",
    "    test_loader,\n",
    "    criterion_mse,\n",
    "    criterion_mae,\n",
    "    optimizer\n",
    ")\n",
    "plot_losses(\n",
    "    epochs_loss_mse, \n",
    "    epochs_loss_mae,\n",
    "    epochs_loss_mse_test,\n",
    "    epochs_loss_mae_test,\n",
    "    'MSE, {}, and {} layers used for training'.format(str(activation_function).split()[1], str(len(hidden_size)))\n",
    ")\n",
    "_, _, outputs_agg, targets_agg = check_accuracy(model, test_loader, criterion_mse, criterion_mae)\n",
    "plot_predictions(outputs_agg, targets_agg)"
   ]
  },
  {
   "cell_type": "code",
   "execution_count": null,
   "id": "fitting-india",
   "metadata": {},
   "outputs": [],
   "source": []
  }
 ],
 "metadata": {
  "kernelspec": {
   "display_name": "Python 3",
   "language": "python",
   "name": "python3"
  },
  "language_info": {
   "codemirror_mode": {
    "name": "ipython",
    "version": 3
   },
   "file_extension": ".py",
   "mimetype": "text/x-python",
   "name": "python",
   "nbconvert_exporter": "python",
   "pygments_lexer": "ipython3",
   "version": "3.8.0"
  }
 },
 "nbformat": 4,
 "nbformat_minor": 5
}
